{
 "cells": [
  {
   "cell_type": "code",
   "execution_count": 1,
   "id": "583f91fb",
   "metadata": {},
   "outputs": [],
   "source": [
    "# import libraries\n",
    "import pandas as pd\n",
    "import numpy as np\n",
    "import matplotlib.pyplot as plt\n",
    "import sklearn as sk\n",
    "import datetime\n",
    "import seaborn as sns\n",
    "import scipy.stats as stats\n",
    "from sklearn.feature_selection import mutual_info_classif\n",
    "from sklearn.feature_selection import SelectKBest\n",
    "from sklearn.feature_selection import SelectPercentile\n",
    "from sklearn.metrics import mean_squared_error, r2_score\n",
    "from sklearn.feature_selection import SelectFromModel\n",
    "from sklearn.model_selection import GridSearchCV, RandomizedSearchCV\n",
    "from sklearn.feature_selection import SequentialFeatureSelector\n",
    "from sklearn.preprocessing import StandardScaler\n",
    "from sklearn.model_selection import train_test_split\n",
    "from sklearn.linear_model import LinearRegression\n",
    "from sklearn.ensemble import RandomForestRegressor\n",
    "from sklearn.cluster import KMeans\n",
    "import re\n",
    "import statsmodels.api as sm\n",
    "plt.style.use('ggplot')"
   ]
  },
  {
   "cell_type": "code",
   "execution_count": 2,
   "id": "367e2cb2",
   "metadata": {},
   "outputs": [],
   "source": [
    "watches = pd.read_csv('luxury watch.csv')"
   ]
  },
  {
   "cell_type": "markdown",
   "id": "02d73d45",
   "metadata": {},
   "source": [
    "# EDA and Feature Engineering"
   ]
  },
  {
   "cell_type": "code",
   "execution_count": 3,
   "id": "44b3967b",
   "metadata": {},
   "outputs": [
    {
     "data": {
      "text/html": [
       "<div>\n",
       "<style scoped>\n",
       "    .dataframe tbody tr th:only-of-type {\n",
       "        vertical-align: middle;\n",
       "    }\n",
       "\n",
       "    .dataframe tbody tr th {\n",
       "        vertical-align: top;\n",
       "    }\n",
       "\n",
       "    .dataframe thead th {\n",
       "        text-align: right;\n",
       "    }\n",
       "</style>\n",
       "<table border=\"1\" class=\"dataframe\">\n",
       "  <thead>\n",
       "    <tr style=\"text-align: right;\">\n",
       "      <th></th>\n",
       "      <th>Brand</th>\n",
       "      <th>Model</th>\n",
       "      <th>Case Material</th>\n",
       "      <th>Strap Material</th>\n",
       "      <th>Movement Type</th>\n",
       "      <th>Water Resistance</th>\n",
       "      <th>Case Diameter (mm)</th>\n",
       "      <th>Case Thickness (mm)</th>\n",
       "      <th>Band Width (mm)</th>\n",
       "      <th>Dial Color</th>\n",
       "      <th>Crystal Material</th>\n",
       "      <th>Complications</th>\n",
       "      <th>Power Reserve</th>\n",
       "      <th>Price (USD)</th>\n",
       "    </tr>\n",
       "  </thead>\n",
       "  <tbody>\n",
       "    <tr>\n",
       "      <th>0</th>\n",
       "      <td>Rolex</td>\n",
       "      <td>Submariner</td>\n",
       "      <td>Stainless Steel</td>\n",
       "      <td>Stainless Steel</td>\n",
       "      <td>Automatic</td>\n",
       "      <td>300 meters</td>\n",
       "      <td>40.0</td>\n",
       "      <td>13.00</td>\n",
       "      <td>20.0</td>\n",
       "      <td>Black</td>\n",
       "      <td>Sapphire</td>\n",
       "      <td>Date</td>\n",
       "      <td>48 hours</td>\n",
       "      <td>9,500</td>\n",
       "    </tr>\n",
       "    <tr>\n",
       "      <th>1</th>\n",
       "      <td>Omega</td>\n",
       "      <td>Seamaster</td>\n",
       "      <td>Titanium</td>\n",
       "      <td>Rubber</td>\n",
       "      <td>Automatic</td>\n",
       "      <td>600 meters</td>\n",
       "      <td>43.5</td>\n",
       "      <td>14.47</td>\n",
       "      <td>21.0</td>\n",
       "      <td>Blue</td>\n",
       "      <td>Sapphire</td>\n",
       "      <td>Date</td>\n",
       "      <td>60 hours</td>\n",
       "      <td>5,800</td>\n",
       "    </tr>\n",
       "    <tr>\n",
       "      <th>2</th>\n",
       "      <td>Tag Heuer</td>\n",
       "      <td>Carrera</td>\n",
       "      <td>Stainless Steel</td>\n",
       "      <td>Leather</td>\n",
       "      <td>Automatic</td>\n",
       "      <td>100 meters</td>\n",
       "      <td>41.0</td>\n",
       "      <td>13.00</td>\n",
       "      <td>20.0</td>\n",
       "      <td>White</td>\n",
       "      <td>Sapphire</td>\n",
       "      <td>Chronograph</td>\n",
       "      <td>42 hours</td>\n",
       "      <td>4,200</td>\n",
       "    </tr>\n",
       "    <tr>\n",
       "      <th>3</th>\n",
       "      <td>Breitling</td>\n",
       "      <td>Navitimer</td>\n",
       "      <td>Stainless Steel</td>\n",
       "      <td>Stainless Steel</td>\n",
       "      <td>Automatic</td>\n",
       "      <td>30 meters</td>\n",
       "      <td>43.0</td>\n",
       "      <td>14.25</td>\n",
       "      <td>22.0</td>\n",
       "      <td>Black</td>\n",
       "      <td>Sapphire</td>\n",
       "      <td>Chronograph</td>\n",
       "      <td>70 hours</td>\n",
       "      <td>7,900</td>\n",
       "    </tr>\n",
       "    <tr>\n",
       "      <th>4</th>\n",
       "      <td>Cartier</td>\n",
       "      <td>Tank Solo</td>\n",
       "      <td>Stainless Steel</td>\n",
       "      <td>Leather</td>\n",
       "      <td>Quartz</td>\n",
       "      <td>30 meters</td>\n",
       "      <td>31.0</td>\n",
       "      <td>6.05</td>\n",
       "      <td>20.0</td>\n",
       "      <td>Silver</td>\n",
       "      <td>Sapphire</td>\n",
       "      <td>NaN</td>\n",
       "      <td>NaN</td>\n",
       "      <td>2,800</td>\n",
       "    </tr>\n",
       "  </tbody>\n",
       "</table>\n",
       "</div>"
      ],
      "text/plain": [
       "       Brand       Model    Case Material   Strap Material Movement Type  \\\n",
       "0      Rolex  Submariner  Stainless Steel  Stainless Steel     Automatic   \n",
       "1      Omega   Seamaster         Titanium           Rubber     Automatic   \n",
       "2  Tag Heuer     Carrera  Stainless Steel          Leather     Automatic   \n",
       "3  Breitling   Navitimer  Stainless Steel  Stainless Steel     Automatic   \n",
       "4    Cartier   Tank Solo  Stainless Steel          Leather        Quartz   \n",
       "\n",
       "  Water Resistance  Case Diameter (mm)  Case Thickness (mm)  Band Width (mm)  \\\n",
       "0       300 meters                40.0                13.00             20.0   \n",
       "1       600 meters                43.5                14.47             21.0   \n",
       "2       100 meters                41.0                13.00             20.0   \n",
       "3        30 meters                43.0                14.25             22.0   \n",
       "4        30 meters                31.0                 6.05             20.0   \n",
       "\n",
       "  Dial Color Crystal Material Complications Power Reserve Price (USD)  \n",
       "0      Black         Sapphire          Date      48 hours       9,500  \n",
       "1       Blue         Sapphire          Date      60 hours       5,800  \n",
       "2      White         Sapphire   Chronograph      42 hours       4,200  \n",
       "3      Black         Sapphire   Chronograph      70 hours       7,900  \n",
       "4     Silver         Sapphire           NaN           NaN       2,800  "
      ]
     },
     "execution_count": 3,
     "metadata": {},
     "output_type": "execute_result"
    }
   ],
   "source": [
    "watches.head()"
   ]
  },
  {
   "cell_type": "code",
   "execution_count": 4,
   "id": "364f4811",
   "metadata": {},
   "outputs": [
    {
     "data": {
      "text/plain": [
       "Brand                   object\n",
       "Model                   object\n",
       "Case Material           object\n",
       "Strap Material          object\n",
       "Movement Type           object\n",
       "Water Resistance        object\n",
       "Case Diameter (mm)     float64\n",
       "Case Thickness (mm)    float64\n",
       "Band Width (mm)        float64\n",
       "Dial Color              object\n",
       "Crystal Material        object\n",
       "Complications           object\n",
       "Power Reserve           object\n",
       "Price (USD)             object\n",
       "dtype: object"
      ]
     },
     "execution_count": 4,
     "metadata": {},
     "output_type": "execute_result"
    }
   ],
   "source": [
    "watches.dtypes"
   ]
  },
  {
   "cell_type": "code",
   "execution_count": 5,
   "id": "7d087536",
   "metadata": {},
   "outputs": [
    {
     "data": {
      "text/plain": [
       "Brand                    0\n",
       "Model                    0\n",
       "Case Material            0\n",
       "Strap Material           0\n",
       "Movement Type            0\n",
       "Water Resistance         0\n",
       "Case Diameter (mm)       0\n",
       "Case Thickness (mm)      0\n",
       "Band Width (mm)          0\n",
       "Dial Color               0\n",
       "Crystal Material         0\n",
       "Complications          122\n",
       "Power Reserve           14\n",
       "Price (USD)              1\n",
       "dtype: int64"
      ]
     },
     "execution_count": 5,
     "metadata": {},
     "output_type": "execute_result"
    }
   ],
   "source": [
    "watches.isna().sum()"
   ]
  },
  {
   "cell_type": "code",
   "execution_count": 6,
   "id": "dc942fad",
   "metadata": {},
   "outputs": [
    {
     "data": {
      "text/plain": [
       "19"
      ]
     },
     "execution_count": 6,
     "metadata": {},
     "output_type": "execute_result"
    }
   ],
   "source": [
    "watches.duplicated().sum()"
   ]
  },
  {
   "cell_type": "code",
   "execution_count": 7,
   "id": "48b37697",
   "metadata": {},
   "outputs": [],
   "source": [
    "# drop duplicated\n",
    "watches.drop_duplicates(inplace = True)"
   ]
  },
  {
   "cell_type": "code",
   "execution_count": 8,
   "id": "8b575b68",
   "metadata": {},
   "outputs": [
    {
     "data": {
      "text/plain": [
       "0"
      ]
     },
     "execution_count": 8,
     "metadata": {},
     "output_type": "execute_result"
    }
   ],
   "source": [
    "watches.duplicated().sum()"
   ]
  },
  {
   "cell_type": "code",
   "execution_count": 9,
   "id": "627088b1",
   "metadata": {},
   "outputs": [],
   "source": [
    "#drop null price, and power reserve\n",
    "watches.dropna(subset = ['Price (USD)', 'Power Reserve'],axis = 0, inplace = True)"
   ]
  },
  {
   "cell_type": "code",
   "execution_count": 10,
   "id": "4dd5314e",
   "metadata": {},
   "outputs": [
    {
     "name": "stdout",
     "output_type": "stream",
     "text": [
      "['300 meters' '600 meters' '100 meters' '30 meters' '200 meters'\n",
      " '50 meters' '150 meters' '500 meters' '60 meters' '120 meters'\n",
      " '1000 meters' '2000 meters'] ['48 hours' '60 hours' '42 hours' '70 hours' '45 hours' '50 hours'\n",
      " '270 days' '38 hours' '80 hours' '64 hours' '40 hours' '56 hours'\n",
      " '120 hours' '68 hours' '54 hours' '46 hours' '72 hours' '44 hours'\n",
      " '210 days' '65 hours' '43 hours' '41 hours' '55 hours' '168 hours']\n"
     ]
    }
   ],
   "source": [
    "# make Water Resistance and Power Reserve integer columns\n",
    "print(watches['Water Resistance'].unique(), watches['Power Reserve'].unique())\n",
    "watches['Water Resistance'] = watches['Water Resistance'].str.split().str.get(0)\n",
    "watches['Power Reserve'] = watches['Power Reserve'].str.split().str.get(0)"
   ]
  },
  {
   "cell_type": "code",
   "execution_count": 11,
   "id": "14334036",
   "metadata": {},
   "outputs": [
    {
     "name": "stdout",
     "output_type": "stream",
     "text": [
      "['300' '600' '100' '30' '200' '50' '150' '500' '60' '120' '1000' '2000'] ['48' '60' '42' '70' '45' '50' '270' '38' '80' '64' '40' '56' '120' '68'\n",
      " '54' '46' '72' '44' '210' '65' '43' '41' '55' '168']\n"
     ]
    }
   ],
   "source": [
    "# make Water Resistance and Power Reserve integer columns\n",
    "print(watches['Water Resistance'].unique(), watches['Power Reserve'].unique())"
   ]
  },
  {
   "cell_type": "code",
   "execution_count": 12,
   "id": "98c88876",
   "metadata": {},
   "outputs": [
    {
     "data": {
      "text/plain": [
       "(474, 14)"
      ]
     },
     "execution_count": 12,
     "metadata": {},
     "output_type": "execute_result"
    }
   ],
   "source": [
    "watches.shape"
   ]
  },
  {
   "cell_type": "code",
   "execution_count": 13,
   "id": "ae32188f",
   "metadata": {},
   "outputs": [
    {
     "data": {
      "text/plain": [
       "Movement Type            3\n",
       "Crystal Material         4\n",
       "Dial Color               7\n",
       "Water Resistance        12\n",
       "Band Width (mm)         12\n",
       "Strap Material          14\n",
       "Case Material           16\n",
       "Power Reserve           24\n",
       "Complications           29\n",
       "Case Diameter (mm)      32\n",
       "Brand                   37\n",
       "Model                   89\n",
       "Case Thickness (mm)    116\n",
       "Price (USD)            179\n",
       "dtype: int64"
      ]
     },
     "execution_count": 13,
     "metadata": {},
     "output_type": "execute_result"
    }
   ],
   "source": [
    "# how many unique values in each column?\n",
    "watches.nunique().sort_values()"
   ]
  },
  {
   "cell_type": "code",
   "execution_count": 14,
   "id": "efb92e6d",
   "metadata": {},
   "outputs": [],
   "source": [
    "# make water resistance and power reserve number\n",
    "watches['Water Resistance'] = watches['Water Resistance'].astype(float)\n",
    "watches['Power Reserve'] = watches['Power Reserve'].astype(float)"
   ]
  },
  {
   "cell_type": "code",
   "execution_count": 15,
   "id": "04342266",
   "metadata": {},
   "outputs": [],
   "source": [
    "# fix Price (USD) column and make integer\n",
    "watches['Price (USD)'] = watches['Price (USD)'].str.replace(',','').astype(int)"
   ]
  },
  {
   "cell_type": "code",
   "execution_count": 16,
   "id": "d9551b85",
   "metadata": {},
   "outputs": [
    {
     "data": {
      "text/html": [
       "<div>\n",
       "<style scoped>\n",
       "    .dataframe tbody tr th:only-of-type {\n",
       "        vertical-align: middle;\n",
       "    }\n",
       "\n",
       "    .dataframe tbody tr th {\n",
       "        vertical-align: top;\n",
       "    }\n",
       "\n",
       "    .dataframe thead th {\n",
       "        text-align: right;\n",
       "    }\n",
       "</style>\n",
       "<table border=\"1\" class=\"dataframe\">\n",
       "  <thead>\n",
       "    <tr style=\"text-align: right;\">\n",
       "      <th></th>\n",
       "      <th>Brand</th>\n",
       "      <th>Model</th>\n",
       "      <th>Case Material</th>\n",
       "      <th>Strap Material</th>\n",
       "      <th>Movement Type</th>\n",
       "      <th>Water Resistance</th>\n",
       "      <th>Case Diameter (mm)</th>\n",
       "      <th>Case Thickness (mm)</th>\n",
       "      <th>Band Width (mm)</th>\n",
       "      <th>Dial Color</th>\n",
       "      <th>Crystal Material</th>\n",
       "      <th>Complications</th>\n",
       "      <th>Power Reserve</th>\n",
       "      <th>Price (USD)</th>\n",
       "    </tr>\n",
       "  </thead>\n",
       "  <tbody>\n",
       "    <tr>\n",
       "      <th>0</th>\n",
       "      <td>Rolex</td>\n",
       "      <td>Submariner</td>\n",
       "      <td>Stainless Steel</td>\n",
       "      <td>Stainless Steel</td>\n",
       "      <td>Automatic</td>\n",
       "      <td>300.0</td>\n",
       "      <td>40.0</td>\n",
       "      <td>13.00</td>\n",
       "      <td>20.0</td>\n",
       "      <td>Black</td>\n",
       "      <td>Sapphire</td>\n",
       "      <td>Date</td>\n",
       "      <td>48.0</td>\n",
       "      <td>9500</td>\n",
       "    </tr>\n",
       "    <tr>\n",
       "      <th>1</th>\n",
       "      <td>Omega</td>\n",
       "      <td>Seamaster</td>\n",
       "      <td>Titanium</td>\n",
       "      <td>Rubber</td>\n",
       "      <td>Automatic</td>\n",
       "      <td>600.0</td>\n",
       "      <td>43.5</td>\n",
       "      <td>14.47</td>\n",
       "      <td>21.0</td>\n",
       "      <td>Blue</td>\n",
       "      <td>Sapphire</td>\n",
       "      <td>Date</td>\n",
       "      <td>60.0</td>\n",
       "      <td>5800</td>\n",
       "    </tr>\n",
       "    <tr>\n",
       "      <th>2</th>\n",
       "      <td>Tag Heuer</td>\n",
       "      <td>Carrera</td>\n",
       "      <td>Stainless Steel</td>\n",
       "      <td>Leather</td>\n",
       "      <td>Automatic</td>\n",
       "      <td>100.0</td>\n",
       "      <td>41.0</td>\n",
       "      <td>13.00</td>\n",
       "      <td>20.0</td>\n",
       "      <td>White</td>\n",
       "      <td>Sapphire</td>\n",
       "      <td>Chronograph</td>\n",
       "      <td>42.0</td>\n",
       "      <td>4200</td>\n",
       "    </tr>\n",
       "    <tr>\n",
       "      <th>3</th>\n",
       "      <td>Breitling</td>\n",
       "      <td>Navitimer</td>\n",
       "      <td>Stainless Steel</td>\n",
       "      <td>Stainless Steel</td>\n",
       "      <td>Automatic</td>\n",
       "      <td>30.0</td>\n",
       "      <td>43.0</td>\n",
       "      <td>14.25</td>\n",
       "      <td>22.0</td>\n",
       "      <td>Black</td>\n",
       "      <td>Sapphire</td>\n",
       "      <td>Chronograph</td>\n",
       "      <td>70.0</td>\n",
       "      <td>7900</td>\n",
       "    </tr>\n",
       "    <tr>\n",
       "      <th>5</th>\n",
       "      <td>Jaeger-LeCoultre</td>\n",
       "      <td>Reverso</td>\n",
       "      <td>Stainless Steel</td>\n",
       "      <td>Leather</td>\n",
       "      <td>Manual</td>\n",
       "      <td>30.0</td>\n",
       "      <td>42.9</td>\n",
       "      <td>9.20</td>\n",
       "      <td>20.0</td>\n",
       "      <td>Black</td>\n",
       "      <td>Sapphire</td>\n",
       "      <td>NaN</td>\n",
       "      <td>45.0</td>\n",
       "      <td>5500</td>\n",
       "    </tr>\n",
       "  </tbody>\n",
       "</table>\n",
       "</div>"
      ],
      "text/plain": [
       "              Brand       Model    Case Material   Strap Material  \\\n",
       "0             Rolex  Submariner  Stainless Steel  Stainless Steel   \n",
       "1             Omega   Seamaster         Titanium           Rubber   \n",
       "2         Tag Heuer     Carrera  Stainless Steel          Leather   \n",
       "3         Breitling   Navitimer  Stainless Steel  Stainless Steel   \n",
       "5  Jaeger-LeCoultre     Reverso  Stainless Steel          Leather   \n",
       "\n",
       "  Movement Type  Water Resistance  Case Diameter (mm)  Case Thickness (mm)  \\\n",
       "0     Automatic             300.0                40.0                13.00   \n",
       "1     Automatic             600.0                43.5                14.47   \n",
       "2     Automatic             100.0                41.0                13.00   \n",
       "3     Automatic              30.0                43.0                14.25   \n",
       "5        Manual              30.0                42.9                 9.20   \n",
       "\n",
       "   Band Width (mm) Dial Color Crystal Material Complications  Power Reserve  \\\n",
       "0             20.0      Black         Sapphire          Date           48.0   \n",
       "1             21.0       Blue         Sapphire          Date           60.0   \n",
       "2             20.0      White         Sapphire   Chronograph           42.0   \n",
       "3             22.0      Black         Sapphire   Chronograph           70.0   \n",
       "5             20.0      Black         Sapphire           NaN           45.0   \n",
       "\n",
       "   Price (USD)  \n",
       "0         9500  \n",
       "1         5800  \n",
       "2         4200  \n",
       "3         7900  \n",
       "5         5500  "
      ]
     },
     "execution_count": 16,
     "metadata": {},
     "output_type": "execute_result"
    }
   ],
   "source": [
    "watches.head()"
   ]
  },
  {
   "cell_type": "code",
   "execution_count": 17,
   "id": "a4476a23",
   "metadata": {},
   "outputs": [
    {
     "data": {
      "text/plain": [
       "array(['Rolex', 'Omega', 'Tag Heuer', 'Breitling', 'Jaeger-LeCoultre',\n",
       "       'Seiko', 'Citizen', 'Tissot', 'Hamilton', 'Longines', 'Oris',\n",
       "       'Bell & Ross', 'Sinn', 'Breguet', 'Audemars Piguet',\n",
       "       'Vacheron Constantin', 'Panerai', 'Tudor', 'IWC', 'Montblanc',\n",
       "       'Blancpain', 'Zenith', 'Piaget', 'Ulysse Nardin', 'Jaquet Droz',\n",
       "       'Bulgari', 'Chopard', 'Girard-Perregaux', 'Glashütte Original',\n",
       "       'Hublot', 'Patek Philippe', 'Cartier', 'A. Lange & Sohne',\n",
       "       'Frederique Constant', 'TAG Heuer', 'Baume & Mercier',\n",
       "       'A. Lange & Söhne'], dtype=object)"
      ]
     },
     "execution_count": 17,
     "metadata": {},
     "output_type": "execute_result"
    }
   ],
   "source": [
    "# what are the unique brands?\n",
    "watches['Brand'].unique()"
   ]
  },
  {
   "cell_type": "code",
   "execution_count": 18,
   "id": "7f65661d",
   "metadata": {},
   "outputs": [
    {
     "data": {
      "text/plain": [
       "array(['Submariner', 'Seamaster', 'Carrera', 'Navitimer', 'Reverso',\n",
       "       'Prospex', 'Promaster', 'Le Locle', 'Khaki Field',\n",
       "       'Master Collection', 'Big Crown ProPilot', 'Aviation', '104',\n",
       "       'Classique', 'Royal Oak', 'Overseas', 'Speedmaster', 'Superocean',\n",
       "       'Luminor Base Logo', 'Black Bay', 'GMT-Master II', \"Pilot's Watch\",\n",
       "       'Master Ultra Thin', '1858 Geosphere', 'Datejust',\n",
       "       'Speedmaster Moonwatch', 'Portugieser', 'Fifty Fathoms',\n",
       "       'El Primero', 'Polo S', 'Marine', 'Grande Seconde', 'Type XXI',\n",
       "       'Octo Finissimo', 'Mille Miglia', 'Laureato', 'Senator',\n",
       "       'Classic Fusion', 'Nautilus', 'Chronomaster', '1858',\n",
       "       'Luminor Marina', 'Luminor', 'Type XX', 'HydroConquest',\n",
       "       'Khaki Field Auto', 'Superocean Heritage', 'Master Control',\n",
       "       'Santos', 'Elite', 'Luminor Base', 'U1', 'Saxonia', 'Big Bang',\n",
       "       'Altiplano', 'Luminor Due', 'Patrimony', 'Conquest', 'Ballon Bleu',\n",
       "       'Calatrava', 'Defy', 'Jazzmaster', 'Heritage', 'Classics',\n",
       "       'Marine Torpilleur', 'U50', 'BR V2-92', 'Superocean Heritage II',\n",
       "       'Santos de Cartier', \"Pilot's Watch Mark XVIII\", 'Black Bay GMT',\n",
       "       'Divers Sixty-Five', 'Monaco', 'Aqua Terra', 'Aquaracer',\n",
       "       'Avenger II', 'Daytona', 'Portugieser Chronograph',\n",
       "       'Chronomaster El Primero', 'Portuguese', 'Elite Classic',\n",
       "       'Conquest Classic', 'Star Legacy', 'Clifton Baumatic', 'BR 03-92',\n",
       "       \"Pilot's Watch Mark\", 'Constellation', 'Chronomat', 'Polo'],\n",
       "      dtype=object)"
      ]
     },
     "execution_count": 18,
     "metadata": {},
     "output_type": "execute_result"
    }
   ],
   "source": [
    "# what are the unique models?\n",
    "watches['Model'].unique()"
   ]
  },
  {
   "cell_type": "code",
   "execution_count": 19,
   "id": "77ad0a43",
   "metadata": {},
   "outputs": [],
   "source": [
    "# fix the missmatched brand names\n",
    "watches.loc[watches['Brand'] == 'A. Lange & Söhne', 'Brand'] = 'A. Lange & Sohne'"
   ]
  },
  {
   "cell_type": "code",
   "execution_count": 20,
   "id": "85f6d799",
   "metadata": {},
   "outputs": [
    {
     "data": {
      "text/html": [
       "<div>\n",
       "<style scoped>\n",
       "    .dataframe tbody tr th:only-of-type {\n",
       "        vertical-align: middle;\n",
       "    }\n",
       "\n",
       "    .dataframe tbody tr th {\n",
       "        vertical-align: top;\n",
       "    }\n",
       "\n",
       "    .dataframe thead th {\n",
       "        text-align: right;\n",
       "    }\n",
       "</style>\n",
       "<table border=\"1\" class=\"dataframe\">\n",
       "  <thead>\n",
       "    <tr style=\"text-align: right;\">\n",
       "      <th></th>\n",
       "      <th>Price (USD)</th>\n",
       "    </tr>\n",
       "    <tr>\n",
       "      <th>Brand</th>\n",
       "      <th></th>\n",
       "    </tr>\n",
       "  </thead>\n",
       "  <tbody>\n",
       "    <tr>\n",
       "      <th>Tissot</th>\n",
       "      <td>650.000000</td>\n",
       "    </tr>\n",
       "    <tr>\n",
       "      <th>Hamilton</th>\n",
       "      <td>696.250000</td>\n",
       "    </tr>\n",
       "    <tr>\n",
       "      <th>Citizen</th>\n",
       "      <td>1097.500000</td>\n",
       "    </tr>\n",
       "    <tr>\n",
       "      <th>Seiko</th>\n",
       "      <td>1150.000000</td>\n",
       "    </tr>\n",
       "    <tr>\n",
       "      <th>Frederique Constant</th>\n",
       "      <td>1300.000000</td>\n",
       "    </tr>\n",
       "    <tr>\n",
       "      <th>Oris</th>\n",
       "      <td>1650.000000</td>\n",
       "    </tr>\n",
       "    <tr>\n",
       "      <th>Longines</th>\n",
       "      <td>1755.555556</td>\n",
       "    </tr>\n",
       "    <tr>\n",
       "      <th>Sinn</th>\n",
       "      <td>2416.666667</td>\n",
       "    </tr>\n",
       "    <tr>\n",
       "      <th>Baume &amp; Mercier</th>\n",
       "      <td>2750.000000</td>\n",
       "    </tr>\n",
       "    <tr>\n",
       "      <th>Bell &amp; Ross</th>\n",
       "      <td>3600.000000</td>\n",
       "    </tr>\n",
       "    <tr>\n",
       "      <th>Tudor</th>\n",
       "      <td>3850.000000</td>\n",
       "    </tr>\n",
       "    <tr>\n",
       "      <th>Tag Heuer</th>\n",
       "      <td>4207.142857</td>\n",
       "    </tr>\n",
       "    <tr>\n",
       "      <th>Montblanc</th>\n",
       "      <td>4216.666667</td>\n",
       "    </tr>\n",
       "    <tr>\n",
       "      <th>Breitling</th>\n",
       "      <td>4485.714286</td>\n",
       "    </tr>\n",
       "    <tr>\n",
       "      <th>TAG Heuer</th>\n",
       "      <td>4825.000000</td>\n",
       "    </tr>\n",
       "    <tr>\n",
       "      <th>Omega</th>\n",
       "      <td>5300.000000</td>\n",
       "    </tr>\n",
       "    <tr>\n",
       "      <th>Chopard</th>\n",
       "      <td>6133.333333</td>\n",
       "    </tr>\n",
       "    <tr>\n",
       "      <th>Zenith</th>\n",
       "      <td>6693.103448</td>\n",
       "    </tr>\n",
       "    <tr>\n",
       "      <th>Jaeger-LeCoultre</th>\n",
       "      <td>6860.000000</td>\n",
       "    </tr>\n",
       "    <tr>\n",
       "      <th>IWC</th>\n",
       "      <td>7111.842105</td>\n",
       "    </tr>\n",
       "    <tr>\n",
       "      <th>Cartier</th>\n",
       "      <td>7250.000000</td>\n",
       "    </tr>\n",
       "    <tr>\n",
       "      <th>Panerai</th>\n",
       "      <td>7408.000000</td>\n",
       "    </tr>\n",
       "    <tr>\n",
       "      <th>Ulysse Nardin</th>\n",
       "      <td>8420.000000</td>\n",
       "    </tr>\n",
       "    <tr>\n",
       "      <th>Jaquet Droz</th>\n",
       "      <td>8800.000000</td>\n",
       "    </tr>\n",
       "    <tr>\n",
       "      <th>Glashütte Original</th>\n",
       "      <td>9200.000000</td>\n",
       "    </tr>\n",
       "    <tr>\n",
       "      <th>Girard-Perregaux</th>\n",
       "      <td>9563.157895</td>\n",
       "    </tr>\n",
       "    <tr>\n",
       "      <th>Bulgari</th>\n",
       "      <td>10933.333333</td>\n",
       "    </tr>\n",
       "    <tr>\n",
       "      <th>Rolex</th>\n",
       "      <td>11021.153846</td>\n",
       "    </tr>\n",
       "    <tr>\n",
       "      <th>Blancpain</th>\n",
       "      <td>13192.857143</td>\n",
       "    </tr>\n",
       "    <tr>\n",
       "      <th>Hublot</th>\n",
       "      <td>13350.000000</td>\n",
       "    </tr>\n",
       "    <tr>\n",
       "      <th>Piaget</th>\n",
       "      <td>16383.333333</td>\n",
       "    </tr>\n",
       "    <tr>\n",
       "      <th>Vacheron Constantin</th>\n",
       "      <td>19356.000000</td>\n",
       "    </tr>\n",
       "    <tr>\n",
       "      <th>Breguet</th>\n",
       "      <td>20696.153846</td>\n",
       "    </tr>\n",
       "    <tr>\n",
       "      <th>A. Lange &amp; Sohne</th>\n",
       "      <td>21266.666667</td>\n",
       "    </tr>\n",
       "    <tr>\n",
       "      <th>Audemars Piguet</th>\n",
       "      <td>23673.529412</td>\n",
       "    </tr>\n",
       "    <tr>\n",
       "      <th>Patek Philippe</th>\n",
       "      <td>38365.625000</td>\n",
       "    </tr>\n",
       "  </tbody>\n",
       "</table>\n",
       "</div>"
      ],
      "text/plain": [
       "                      Price (USD)\n",
       "Brand                            \n",
       "Tissot                 650.000000\n",
       "Hamilton               696.250000\n",
       "Citizen               1097.500000\n",
       "Seiko                 1150.000000\n",
       "Frederique Constant   1300.000000\n",
       "Oris                  1650.000000\n",
       "Longines              1755.555556\n",
       "Sinn                  2416.666667\n",
       "Baume & Mercier       2750.000000\n",
       "Bell & Ross           3600.000000\n",
       "Tudor                 3850.000000\n",
       "Tag Heuer             4207.142857\n",
       "Montblanc             4216.666667\n",
       "Breitling             4485.714286\n",
       "TAG Heuer             4825.000000\n",
       "Omega                 5300.000000\n",
       "Chopard               6133.333333\n",
       "Zenith                6693.103448\n",
       "Jaeger-LeCoultre      6860.000000\n",
       "IWC                   7111.842105\n",
       "Cartier               7250.000000\n",
       "Panerai               7408.000000\n",
       "Ulysse Nardin         8420.000000\n",
       "Jaquet Droz           8800.000000\n",
       "Glashütte Original    9200.000000\n",
       "Girard-Perregaux      9563.157895\n",
       "Bulgari              10933.333333\n",
       "Rolex                11021.153846\n",
       "Blancpain            13192.857143\n",
       "Hublot               13350.000000\n",
       "Piaget               16383.333333\n",
       "Vacheron Constantin  19356.000000\n",
       "Breguet              20696.153846\n",
       "A. Lange & Sohne     21266.666667\n",
       "Audemars Piguet      23673.529412\n",
       "Patek Philippe       38365.625000"
      ]
     },
     "execution_count": 20,
     "metadata": {},
     "output_type": "execute_result"
    }
   ],
   "source": [
    "# Group Watch brands into tier\n",
    "# can hierchical clustering based on price help in grouping brands into tiers reputation?\n",
    "# what's the mean price per watch?\n",
    "watches[['Brand', 'Price (USD)']].groupby('Brand').mean().sort_values(by = 'Price (USD)', ascending = True)"
   ]
  },
  {
   "cell_type": "code",
   "execution_count": 21,
   "id": "99e0cf88",
   "metadata": {},
   "outputs": [
    {
     "data": {
      "text/html": [
       "<div>\n",
       "<style scoped>\n",
       "    .dataframe tbody tr th:only-of-type {\n",
       "        vertical-align: middle;\n",
       "    }\n",
       "\n",
       "    .dataframe tbody tr th {\n",
       "        vertical-align: top;\n",
       "    }\n",
       "\n",
       "    .dataframe thead th {\n",
       "        text-align: right;\n",
       "    }\n",
       "</style>\n",
       "<table border=\"1\" class=\"dataframe\">\n",
       "  <thead>\n",
       "    <tr style=\"text-align: right;\">\n",
       "      <th></th>\n",
       "      <th>Price (USD)</th>\n",
       "    </tr>\n",
       "    <tr>\n",
       "      <th>Brand</th>\n",
       "      <th></th>\n",
       "    </tr>\n",
       "  </thead>\n",
       "  <tbody>\n",
       "    <tr>\n",
       "      <th>IWC</th>\n",
       "      <td>38</td>\n",
       "    </tr>\n",
       "    <tr>\n",
       "      <th>Audemars Piguet</th>\n",
       "      <td>34</td>\n",
       "    </tr>\n",
       "    <tr>\n",
       "      <th>Patek Philippe</th>\n",
       "      <td>32</td>\n",
       "    </tr>\n",
       "    <tr>\n",
       "      <th>Zenith</th>\n",
       "      <td>29</td>\n",
       "    </tr>\n",
       "    <tr>\n",
       "      <th>Blancpain</th>\n",
       "      <td>28</td>\n",
       "    </tr>\n",
       "    <tr>\n",
       "      <th>Breguet</th>\n",
       "      <td>26</td>\n",
       "    </tr>\n",
       "    <tr>\n",
       "      <th>Hublot</th>\n",
       "      <td>26</td>\n",
       "    </tr>\n",
       "    <tr>\n",
       "      <th>Rolex</th>\n",
       "      <td>26</td>\n",
       "    </tr>\n",
       "    <tr>\n",
       "      <th>Panerai</th>\n",
       "      <td>25</td>\n",
       "    </tr>\n",
       "    <tr>\n",
       "      <th>Vacheron Constantin</th>\n",
       "      <td>25</td>\n",
       "    </tr>\n",
       "    <tr>\n",
       "      <th>Omega</th>\n",
       "      <td>22</td>\n",
       "    </tr>\n",
       "    <tr>\n",
       "      <th>Girard-Perregaux</th>\n",
       "      <td>19</td>\n",
       "    </tr>\n",
       "    <tr>\n",
       "      <th>Jaeger-LeCoultre</th>\n",
       "      <td>15</td>\n",
       "    </tr>\n",
       "    <tr>\n",
       "      <th>Breitling</th>\n",
       "      <td>14</td>\n",
       "    </tr>\n",
       "    <tr>\n",
       "      <th>Cartier</th>\n",
       "      <td>12</td>\n",
       "    </tr>\n",
       "    <tr>\n",
       "      <th>Chopard</th>\n",
       "      <td>12</td>\n",
       "    </tr>\n",
       "    <tr>\n",
       "      <th>Tudor</th>\n",
       "      <td>12</td>\n",
       "    </tr>\n",
       "    <tr>\n",
       "      <th>Ulysse Nardin</th>\n",
       "      <td>10</td>\n",
       "    </tr>\n",
       "    <tr>\n",
       "      <th>Longines</th>\n",
       "      <td>9</td>\n",
       "    </tr>\n",
       "    <tr>\n",
       "      <th>Montblanc</th>\n",
       "      <td>9</td>\n",
       "    </tr>\n",
       "    <tr>\n",
       "      <th>Tag Heuer</th>\n",
       "      <td>7</td>\n",
       "    </tr>\n",
       "    <tr>\n",
       "      <th>Piaget</th>\n",
       "      <td>6</td>\n",
       "    </tr>\n",
       "    <tr>\n",
       "      <th>Seiko</th>\n",
       "      <td>5</td>\n",
       "    </tr>\n",
       "    <tr>\n",
       "      <th>Jaquet Droz</th>\n",
       "      <td>5</td>\n",
       "    </tr>\n",
       "    <tr>\n",
       "      <th>Hamilton</th>\n",
       "      <td>4</td>\n",
       "    </tr>\n",
       "    <tr>\n",
       "      <th>Sinn</th>\n",
       "      <td>3</td>\n",
       "    </tr>\n",
       "    <tr>\n",
       "      <th>Bulgari</th>\n",
       "      <td>3</td>\n",
       "    </tr>\n",
       "    <tr>\n",
       "      <th>Bell &amp; Ross</th>\n",
       "      <td>3</td>\n",
       "    </tr>\n",
       "    <tr>\n",
       "      <th>A. Lange &amp; Sohne</th>\n",
       "      <td>3</td>\n",
       "    </tr>\n",
       "    <tr>\n",
       "      <th>Oris</th>\n",
       "      <td>2</td>\n",
       "    </tr>\n",
       "    <tr>\n",
       "      <th>Frederique Constant</th>\n",
       "      <td>2</td>\n",
       "    </tr>\n",
       "    <tr>\n",
       "      <th>TAG Heuer</th>\n",
       "      <td>2</td>\n",
       "    </tr>\n",
       "    <tr>\n",
       "      <th>Citizen</th>\n",
       "      <td>2</td>\n",
       "    </tr>\n",
       "    <tr>\n",
       "      <th>Tissot</th>\n",
       "      <td>2</td>\n",
       "    </tr>\n",
       "    <tr>\n",
       "      <th>Glashütte Original</th>\n",
       "      <td>1</td>\n",
       "    </tr>\n",
       "    <tr>\n",
       "      <th>Baume &amp; Mercier</th>\n",
       "      <td>1</td>\n",
       "    </tr>\n",
       "  </tbody>\n",
       "</table>\n",
       "</div>"
      ],
      "text/plain": [
       "                     Price (USD)\n",
       "Brand                           \n",
       "IWC                           38\n",
       "Audemars Piguet               34\n",
       "Patek Philippe                32\n",
       "Zenith                        29\n",
       "Blancpain                     28\n",
       "Breguet                       26\n",
       "Hublot                        26\n",
       "Rolex                         26\n",
       "Panerai                       25\n",
       "Vacheron Constantin           25\n",
       "Omega                         22\n",
       "Girard-Perregaux              19\n",
       "Jaeger-LeCoultre              15\n",
       "Breitling                     14\n",
       "Cartier                       12\n",
       "Chopard                       12\n",
       "Tudor                         12\n",
       "Ulysse Nardin                 10\n",
       "Longines                       9\n",
       "Montblanc                      9\n",
       "Tag Heuer                      7\n",
       "Piaget                         6\n",
       "Seiko                          5\n",
       "Jaquet Droz                    5\n",
       "Hamilton                       4\n",
       "Sinn                           3\n",
       "Bulgari                        3\n",
       "Bell & Ross                    3\n",
       "A. Lange & Sohne               3\n",
       "Oris                           2\n",
       "Frederique Constant            2\n",
       "TAG Heuer                      2\n",
       "Citizen                        2\n",
       "Tissot                         2\n",
       "Glashütte Original             1\n",
       "Baume & Mercier                1"
      ]
     },
     "execution_count": 21,
     "metadata": {},
     "output_type": "execute_result"
    }
   ],
   "source": [
    "# how many instances of each brand?\n",
    "watches[['Brand', 'Price (USD)']].groupby('Brand').count().sort_values(by = 'Price (USD)', ascending = False)"
   ]
  },
  {
   "cell_type": "code",
   "execution_count": 22,
   "id": "06afce00",
   "metadata": {},
   "outputs": [
    {
     "data": {
      "text/plain": [
       "Brand                   object\n",
       "Model                   object\n",
       "Case Material           object\n",
       "Strap Material          object\n",
       "Movement Type           object\n",
       "Water Resistance       float64\n",
       "Case Diameter (mm)     float64\n",
       "Case Thickness (mm)    float64\n",
       "Band Width (mm)        float64\n",
       "Dial Color              object\n",
       "Crystal Material        object\n",
       "Complications           object\n",
       "Power Reserve          float64\n",
       "Price (USD)              int64\n",
       "dtype: object"
      ]
     },
     "execution_count": 22,
     "metadata": {},
     "output_type": "execute_result"
    }
   ],
   "source": [
    "watches.dtypes"
   ]
  },
  {
   "cell_type": "code",
   "execution_count": 23,
   "id": "76dbd0fc",
   "metadata": {},
   "outputs": [
    {
     "name": "stdout",
     "output_type": "stream",
     "text": [
      "['Date' 'Chronograph' nan 'Date, GMT' 'Chronograph, Tachymeter' 'GMT'\n",
      " 'World Time, GMT' 'Date, Moon Phase' 'Chronograph, Date'\n",
      " 'Date, Second Time Zone' 'Date, Unidirectional Bezel'\n",
      " 'Date, Power Reserve Indicator' 'Date, Chronograph'\n",
      " 'Date, Chronograph, Flyback' 'Date, Power Reserve, Moon Phase'\n",
      " 'Date, Power Reserve' 'Power Reserve' 'Day/Date'\n",
      " 'Chronograph, Moon Phase' 'GMT, Date' 'Date, Rotating Bezel'\n",
      " 'Date, Stopwatch' 'Date, Cyclops' 'Date, Moonphase' 'Date, Cyclops Lens'\n",
      " 'Date, Sub Seconds' 'Date, Chronograph, Moon Phase' 'Date, World Time'\n",
      " 'Dual Time Zone' 'Date, Chronograph, Tachymeter']\n"
     ]
    }
   ],
   "source": [
    "# what values are in the complications column?\n",
    "# note: comlications are additional features on the watch other than telling time\n",
    "print(watches['Complications'].unique())\n",
    "watches.loc[watches['Complications'] == 'Day/Date', 'Complications'] = 'Date'\n",
    "# make dummy variables\n",
    "complications = watches['Complications'].str.get_dummies(sep=', ')\n",
    "complications.columns = [i+\"_comp\" for i in complications.columns]\n",
    "watches = pd.concat([watches, complications], axis = 1)\n",
    "watches.drop(labels = ['Complications'], axis = 1, inplace = True)"
   ]
  },
  {
   "cell_type": "code",
   "execution_count": 24,
   "id": "dfc4f4bc",
   "metadata": {},
   "outputs": [
    {
     "data": {
      "text/plain": [
       "Index(['Brand', 'Model', 'Case Material', 'Strap Material', 'Movement Type',\n",
       "       'Water Resistance', 'Case Diameter (mm)', 'Case Thickness (mm)',\n",
       "       'Band Width (mm)', 'Dial Color', 'Crystal Material', 'Power Reserve',\n",
       "       'Price (USD)', 'Chronograph_comp', 'Cyclops_comp', 'Cyclops Lens_comp',\n",
       "       'Date_comp', 'Dual Time Zone_comp', 'Flyback_comp', 'GMT_comp',\n",
       "       'Moon Phase_comp', 'Moonphase_comp', 'Power Reserve_comp',\n",
       "       'Power Reserve Indicator_comp', 'Rotating Bezel_comp',\n",
       "       'Second Time Zone_comp', 'Stopwatch_comp', 'Sub Seconds_comp',\n",
       "       'Tachymeter_comp', 'Unidirectional Bezel_comp', 'World Time_comp'],\n",
       "      dtype='object')"
      ]
     },
     "execution_count": 24,
     "metadata": {},
     "output_type": "execute_result"
    }
   ],
   "source": [
    "watches.columns"
   ]
  },
  {
   "cell_type": "code",
   "execution_count": 25,
   "id": "7830754b",
   "metadata": {},
   "outputs": [
    {
     "name": "stdout",
     "output_type": "stream",
     "text": [
      "['Stainless Steel' 'Titanium' '18k White Gold' '18K Rose Gold' 'Rose Gold'\n",
      " 'White Gold' '18K White Gold' 'Ceramic' '18k Rose Gold'\n",
      " 'German Submarine Steel' 'Bronze' 'Carbon Fiber' 'Yellow Gold'\n",
      " '18k King Gold' '18k Yellow Gold' '18K Yellow Gold']\n",
      "['stainless steel' 'titanium' '18k white gold' '18k rose gold' 'rose gold'\n",
      " 'white gold' 'ceramic' 'german submarine steel' 'bronze' 'carbon fiber'\n",
      " 'yellow gold' '18k king gold' '18k yellow gold']\n"
     ]
    }
   ],
   "source": [
    "# how many different case materials?\n",
    "print(watches['Case Material'].unique())\n",
    "# make indicator columns\n",
    "watches['Case Material'] = watches['Case Material'].str.lower()\n",
    "print(watches['Case Material'].unique())\n",
    "case = pd.get_dummies(watches['Case Material'], dtype = 'int8')\n",
    "case.columns = [i+\"_case\" for i in case.columns]\n",
    "case\n",
    "watches = pd.concat([watches,case], axis = 1)\n",
    "watches.drop(labels = ['Case Material'], axis = 1, inplace = True)"
   ]
  },
  {
   "cell_type": "code",
   "execution_count": 26,
   "id": "3b3f7655",
   "metadata": {},
   "outputs": [
    {
     "data": {
      "text/plain": [
       "Index(['Brand', 'Model', 'Strap Material', 'Movement Type', 'Water Resistance',\n",
       "       'Case Diameter (mm)', 'Case Thickness (mm)', 'Band Width (mm)',\n",
       "       'Dial Color', 'Crystal Material', 'Power Reserve', 'Price (USD)',\n",
       "       'Chronograph_comp', 'Cyclops_comp', 'Cyclops Lens_comp', 'Date_comp',\n",
       "       'Dual Time Zone_comp', 'Flyback_comp', 'GMT_comp', 'Moon Phase_comp',\n",
       "       'Moonphase_comp', 'Power Reserve_comp', 'Power Reserve Indicator_comp',\n",
       "       'Rotating Bezel_comp', 'Second Time Zone_comp', 'Stopwatch_comp',\n",
       "       'Sub Seconds_comp', 'Tachymeter_comp', 'Unidirectional Bezel_comp',\n",
       "       'World Time_comp', '18k king gold_case', '18k rose gold_case',\n",
       "       '18k white gold_case', '18k yellow gold_case', 'bronze_case',\n",
       "       'carbon fiber_case', 'ceramic_case', 'german submarine steel_case',\n",
       "       'rose gold_case', 'stainless steel_case', 'titanium_case',\n",
       "       'white gold_case', 'yellow gold_case'],\n",
       "      dtype='object')"
      ]
     },
     "execution_count": 26,
     "metadata": {},
     "output_type": "execute_result"
    }
   ],
   "source": [
    "watches.columns"
   ]
  },
  {
   "cell_type": "code",
   "execution_count": 28,
   "id": "aa4654c8",
   "metadata": {},
   "outputs": [
    {
     "name": "stdout",
     "output_type": "stream",
     "text": [
      "['Stainless Steel' 'Rubber' 'Leather' 'Textile' 'Jubilee' 'Alligator'\n",
      " 'Canvas' 'Fabric' 'Silicone' 'Titanium' 'Rose Gold' 'NATO Strap'\n",
      " 'Jubilee Bracelet' 'NATO strap']\n"
     ]
    }
   ],
   "source": [
    "# strap material\n",
    "print(watches['Strap Material'].unique())\n",
    "# make indicator columns\n",
    "strap = pd.get_dummies(watches['Strap Material'], dtype = 'int8')\n",
    "strap.columns = [i+\"_strap\" for i in strap.columns]\n",
    "watches = pd.concat([watches,strap], axis = 1)\n",
    "watches.drop(labels = ['Strap Material'], axis = 1, inplace = True)"
   ]
  },
  {
   "cell_type": "code",
   "execution_count": 29,
   "id": "8be32443",
   "metadata": {},
   "outputs": [
    {
     "name": "stdout",
     "output_type": "stream",
     "text": [
      "['Automatic' 'Manual' 'Eco-Drive']\n"
     ]
    }
   ],
   "source": [
    "# movement type \n",
    "print(watches['Movement Type'].unique())\n",
    "# make indicator columns\n",
    "mov = pd.get_dummies(watches['Movement Type'], dtype = 'int8')\n",
    "mov.columns = [i+'_mov' for i in mov.columns]                \n",
    "watches = pd.concat([watches,mov], axis = 1)\n",
    "watches.drop(labels = ['Movement Type'], axis = 1, inplace = True)"
   ]
  },
  {
   "cell_type": "code",
   "execution_count": 30,
   "id": "b8e72f3f",
   "metadata": {},
   "outputs": [
    {
     "data": {
      "text/plain": [
       "Index(['Brand', 'Model', 'Water Resistance', 'Case Diameter (mm)',\n",
       "       'Case Thickness (mm)', 'Band Width (mm)', 'Dial Color',\n",
       "       'Crystal Material', 'Power Reserve', 'Price (USD)', 'Chronograph_comp',\n",
       "       'Cyclops_comp', 'Cyclops Lens_comp', 'Date_comp', 'Dual Time Zone_comp',\n",
       "       'Flyback_comp', 'GMT_comp', 'Moon Phase_comp', 'Moonphase_comp',\n",
       "       'Power Reserve_comp', 'Power Reserve Indicator_comp',\n",
       "       'Rotating Bezel_comp', 'Second Time Zone_comp', 'Stopwatch_comp',\n",
       "       'Sub Seconds_comp', 'Tachymeter_comp', 'Unidirectional Bezel_comp',\n",
       "       'World Time_comp', '18k king gold_case', '18k rose gold_case',\n",
       "       '18k white gold_case', '18k yellow gold_case', 'bronze_case',\n",
       "       'carbon fiber_case', 'ceramic_case', 'german submarine steel_case',\n",
       "       'rose gold_case', 'stainless steel_case', 'titanium_case',\n",
       "       'white gold_case', 'yellow gold_case', 'Alligator_strap',\n",
       "       'Canvas_strap', 'Fabric_strap', 'Jubilee_strap',\n",
       "       'Jubilee Bracelet_strap', 'Leather_strap', 'NATO Strap_strap',\n",
       "       'NATO strap_strap', 'Rose Gold_strap', 'Rubber_strap', 'Silicone_strap',\n",
       "       'Stainless Steel_strap', 'Textile_strap', 'Titanium_strap',\n",
       "       'Automatic_mov', 'Eco-Drive_mov', 'Manual_mov'],\n",
       "      dtype='object')"
      ]
     },
     "execution_count": 30,
     "metadata": {},
     "output_type": "execute_result"
    }
   ],
   "source": [
    "watches.columns"
   ]
  },
  {
   "cell_type": "code",
   "execution_count": 31,
   "id": "1cc03edf",
   "metadata": {},
   "outputs": [
    {
     "name": "stdout",
     "output_type": "stream",
     "text": [
      "['Black' 'Blue' 'White' 'Silver' 'Ivory' 'Champagne' 'Grey']\n"
     ]
    }
   ],
   "source": [
    "# dial color \n",
    "print(watches['Dial Color'].unique())\n",
    "# make indicator columns\n",
    "dial = pd.get_dummies(watches['Dial Color'], dtype = 'int8')\n",
    "dial.columns = [i+\"_dial\" for i in dial.columns]\n",
    "watches = pd.concat([watches,dial], axis = 1)\n",
    "watches.drop(labels = ['Dial Color'], axis = 1, inplace = True)"
   ]
  },
  {
   "cell_type": "code",
   "execution_count": 32,
   "id": "6ca98d80",
   "metadata": {},
   "outputs": [
    {
     "name": "stdout",
     "output_type": "stream",
     "text": [
      "['Sapphire' 'Mineral' 'Hesalite' 'Hardlex']\n"
     ]
    }
   ],
   "source": [
    "# dial color \n",
    "print(watches['Crystal Material'].unique())\n",
    "# make indicator columns\n",
    "crys = pd.get_dummies(watches['Crystal Material'], dtype = 'int8')\n",
    "crys.columns = [i+'_crystal' for i in crys.columns]                    \n",
    "watches = pd.concat([watches,crys], axis = 1)\n",
    "watches.drop(labels = ['Crystal Material'], axis = 1, inplace = True)"
   ]
  },
  {
   "cell_type": "code",
   "execution_count": 33,
   "id": "6bd0c048",
   "metadata": {},
   "outputs": [
    {
     "data": {
      "text/plain": [
       "Index(['Brand', 'Model', 'Water Resistance', 'Case Diameter (mm)',\n",
       "       'Case Thickness (mm)', 'Band Width (mm)', 'Power Reserve',\n",
       "       'Price (USD)', 'Chronograph_comp', 'Cyclops_comp', 'Cyclops Lens_comp',\n",
       "       'Date_comp', 'Dual Time Zone_comp', 'Flyback_comp', 'GMT_comp',\n",
       "       'Moon Phase_comp', 'Moonphase_comp', 'Power Reserve_comp',\n",
       "       'Power Reserve Indicator_comp', 'Rotating Bezel_comp',\n",
       "       'Second Time Zone_comp', 'Stopwatch_comp', 'Sub Seconds_comp',\n",
       "       'Tachymeter_comp', 'Unidirectional Bezel_comp', 'World Time_comp',\n",
       "       '18k king gold_case', '18k rose gold_case', '18k white gold_case',\n",
       "       '18k yellow gold_case', 'bronze_case', 'carbon fiber_case',\n",
       "       'ceramic_case', 'german submarine steel_case', 'rose gold_case',\n",
       "       'stainless steel_case', 'titanium_case', 'white gold_case',\n",
       "       'yellow gold_case', 'Alligator_strap', 'Canvas_strap', 'Fabric_strap',\n",
       "       'Jubilee_strap', 'Jubilee Bracelet_strap', 'Leather_strap',\n",
       "       'NATO Strap_strap', 'NATO strap_strap', 'Rose Gold_strap',\n",
       "       'Rubber_strap', 'Silicone_strap', 'Stainless Steel_strap',\n",
       "       'Textile_strap', 'Titanium_strap', 'Automatic_mov', 'Eco-Drive_mov',\n",
       "       'Manual_mov', 'Black_dial', 'Blue_dial', 'Champagne_dial', 'Grey_dial',\n",
       "       'Ivory_dial', 'Silver_dial', 'White_dial', 'Hardlex_crystal',\n",
       "       'Hesalite_crystal', 'Mineral_crystal', 'Sapphire_crystal'],\n",
       "      dtype='object')"
      ]
     },
     "execution_count": 33,
     "metadata": {},
     "output_type": "execute_result"
    }
   ],
   "source": [
    "watches.columns"
   ]
  },
  {
   "cell_type": "code",
   "execution_count": 34,
   "id": "5f3a4d7a",
   "metadata": {},
   "outputs": [
    {
     "data": {
      "text/plain": [
       "(474, 67)"
      ]
     },
     "execution_count": 34,
     "metadata": {},
     "output_type": "execute_result"
    }
   ],
   "source": [
    "watches.shape"
   ]
  },
  {
   "cell_type": "code",
   "execution_count": 35,
   "id": "a1795a80",
   "metadata": {},
   "outputs": [
    {
     "data": {
      "text/html": [
       "<div>\n",
       "<style scoped>\n",
       "    .dataframe tbody tr th:only-of-type {\n",
       "        vertical-align: middle;\n",
       "    }\n",
       "\n",
       "    .dataframe tbody tr th {\n",
       "        vertical-align: top;\n",
       "    }\n",
       "\n",
       "    .dataframe thead th {\n",
       "        text-align: right;\n",
       "    }\n",
       "</style>\n",
       "<table border=\"1\" class=\"dataframe\">\n",
       "  <thead>\n",
       "    <tr style=\"text-align: right;\">\n",
       "      <th></th>\n",
       "      <th>Brand</th>\n",
       "      <th>Model</th>\n",
       "      <th>Water Resistance</th>\n",
       "      <th>Case Diameter (mm)</th>\n",
       "      <th>Case Thickness (mm)</th>\n",
       "      <th>Band Width (mm)</th>\n",
       "      <th>Power Reserve</th>\n",
       "      <th>Price (USD)</th>\n",
       "      <th>Chronograph_comp</th>\n",
       "      <th>Cyclops_comp</th>\n",
       "      <th>...</th>\n",
       "      <th>Blue_dial</th>\n",
       "      <th>Champagne_dial</th>\n",
       "      <th>Grey_dial</th>\n",
       "      <th>Ivory_dial</th>\n",
       "      <th>Silver_dial</th>\n",
       "      <th>White_dial</th>\n",
       "      <th>Hardlex_crystal</th>\n",
       "      <th>Hesalite_crystal</th>\n",
       "      <th>Mineral_crystal</th>\n",
       "      <th>Sapphire_crystal</th>\n",
       "    </tr>\n",
       "  </thead>\n",
       "  <tbody>\n",
       "    <tr>\n",
       "      <th>0</th>\n",
       "      <td>Rolex</td>\n",
       "      <td>Submariner</td>\n",
       "      <td>300.0</td>\n",
       "      <td>40.0</td>\n",
       "      <td>13.00</td>\n",
       "      <td>20.0</td>\n",
       "      <td>48.0</td>\n",
       "      <td>9500</td>\n",
       "      <td>0</td>\n",
       "      <td>0</td>\n",
       "      <td>...</td>\n",
       "      <td>0</td>\n",
       "      <td>0</td>\n",
       "      <td>0</td>\n",
       "      <td>0</td>\n",
       "      <td>0</td>\n",
       "      <td>0</td>\n",
       "      <td>0</td>\n",
       "      <td>0</td>\n",
       "      <td>0</td>\n",
       "      <td>1</td>\n",
       "    </tr>\n",
       "    <tr>\n",
       "      <th>1</th>\n",
       "      <td>Omega</td>\n",
       "      <td>Seamaster</td>\n",
       "      <td>600.0</td>\n",
       "      <td>43.5</td>\n",
       "      <td>14.47</td>\n",
       "      <td>21.0</td>\n",
       "      <td>60.0</td>\n",
       "      <td>5800</td>\n",
       "      <td>0</td>\n",
       "      <td>0</td>\n",
       "      <td>...</td>\n",
       "      <td>1</td>\n",
       "      <td>0</td>\n",
       "      <td>0</td>\n",
       "      <td>0</td>\n",
       "      <td>0</td>\n",
       "      <td>0</td>\n",
       "      <td>0</td>\n",
       "      <td>0</td>\n",
       "      <td>0</td>\n",
       "      <td>1</td>\n",
       "    </tr>\n",
       "    <tr>\n",
       "      <th>2</th>\n",
       "      <td>Tag Heuer</td>\n",
       "      <td>Carrera</td>\n",
       "      <td>100.0</td>\n",
       "      <td>41.0</td>\n",
       "      <td>13.00</td>\n",
       "      <td>20.0</td>\n",
       "      <td>42.0</td>\n",
       "      <td>4200</td>\n",
       "      <td>1</td>\n",
       "      <td>0</td>\n",
       "      <td>...</td>\n",
       "      <td>0</td>\n",
       "      <td>0</td>\n",
       "      <td>0</td>\n",
       "      <td>0</td>\n",
       "      <td>0</td>\n",
       "      <td>1</td>\n",
       "      <td>0</td>\n",
       "      <td>0</td>\n",
       "      <td>0</td>\n",
       "      <td>1</td>\n",
       "    </tr>\n",
       "    <tr>\n",
       "      <th>3</th>\n",
       "      <td>Breitling</td>\n",
       "      <td>Navitimer</td>\n",
       "      <td>30.0</td>\n",
       "      <td>43.0</td>\n",
       "      <td>14.25</td>\n",
       "      <td>22.0</td>\n",
       "      <td>70.0</td>\n",
       "      <td>7900</td>\n",
       "      <td>1</td>\n",
       "      <td>0</td>\n",
       "      <td>...</td>\n",
       "      <td>0</td>\n",
       "      <td>0</td>\n",
       "      <td>0</td>\n",
       "      <td>0</td>\n",
       "      <td>0</td>\n",
       "      <td>0</td>\n",
       "      <td>0</td>\n",
       "      <td>0</td>\n",
       "      <td>0</td>\n",
       "      <td>1</td>\n",
       "    </tr>\n",
       "    <tr>\n",
       "      <th>5</th>\n",
       "      <td>Jaeger-LeCoultre</td>\n",
       "      <td>Reverso</td>\n",
       "      <td>30.0</td>\n",
       "      <td>42.9</td>\n",
       "      <td>9.20</td>\n",
       "      <td>20.0</td>\n",
       "      <td>45.0</td>\n",
       "      <td>5500</td>\n",
       "      <td>0</td>\n",
       "      <td>0</td>\n",
       "      <td>...</td>\n",
       "      <td>0</td>\n",
       "      <td>0</td>\n",
       "      <td>0</td>\n",
       "      <td>0</td>\n",
       "      <td>0</td>\n",
       "      <td>0</td>\n",
       "      <td>0</td>\n",
       "      <td>0</td>\n",
       "      <td>0</td>\n",
       "      <td>1</td>\n",
       "    </tr>\n",
       "  </tbody>\n",
       "</table>\n",
       "<p>5 rows × 67 columns</p>\n",
       "</div>"
      ],
      "text/plain": [
       "              Brand       Model  Water Resistance  Case Diameter (mm)  \\\n",
       "0             Rolex  Submariner             300.0                40.0   \n",
       "1             Omega   Seamaster             600.0                43.5   \n",
       "2         Tag Heuer     Carrera             100.0                41.0   \n",
       "3         Breitling   Navitimer              30.0                43.0   \n",
       "5  Jaeger-LeCoultre     Reverso              30.0                42.9   \n",
       "\n",
       "   Case Thickness (mm)  Band Width (mm)  Power Reserve  Price (USD)  \\\n",
       "0                13.00             20.0           48.0         9500   \n",
       "1                14.47             21.0           60.0         5800   \n",
       "2                13.00             20.0           42.0         4200   \n",
       "3                14.25             22.0           70.0         7900   \n",
       "5                 9.20             20.0           45.0         5500   \n",
       "\n",
       "   Chronograph_comp  Cyclops_comp  ...  Blue_dial  Champagne_dial  Grey_dial  \\\n",
       "0                 0             0  ...          0               0          0   \n",
       "1                 0             0  ...          1               0          0   \n",
       "2                 1             0  ...          0               0          0   \n",
       "3                 1             0  ...          0               0          0   \n",
       "5                 0             0  ...          0               0          0   \n",
       "\n",
       "   Ivory_dial  Silver_dial  White_dial  Hardlex_crystal  Hesalite_crystal  \\\n",
       "0           0            0           0                0                 0   \n",
       "1           0            0           0                0                 0   \n",
       "2           0            0           1                0                 0   \n",
       "3           0            0           0                0                 0   \n",
       "5           0            0           0                0                 0   \n",
       "\n",
       "   Mineral_crystal  Sapphire_crystal  \n",
       "0                0                 1  \n",
       "1                0                 1  \n",
       "2                0                 1  \n",
       "3                0                 1  \n",
       "5                0                 1  \n",
       "\n",
       "[5 rows x 67 columns]"
      ]
     },
     "execution_count": 35,
     "metadata": {},
     "output_type": "execute_result"
    }
   ],
   "source": [
    "watches.head()"
   ]
  },
  {
   "cell_type": "code",
   "execution_count": 36,
   "id": "336dd5b1",
   "metadata": {},
   "outputs": [
    {
     "data": {
      "text/plain": [
       "Text(0.5, 1.0, 'Correlation Heatmap')"
      ]
     },
     "execution_count": 36,
     "metadata": {},
     "output_type": "execute_result"
    },
    {
     "data": {
      "image/png": "[encoded data removed]",
      "text/plain": [
       "<Figure size 640x480 with 2 Axes>"
      ]
     },
     "metadata": {},
     "output_type": "display_data"
    }
   ],
   "source": [
    "# look at correlation for the numerical features\n",
    "numerical = ['Water Resistance', 'Case Diameter (mm)',\n",
    "       'Case Thickness (mm)', 'Band Width (mm)', 'Power Reserve',\n",
    "       'Price (USD)']\n",
    "sns.heatmap(watches[numerical].corr(), vmin = -1, vmax = 1, annot = True)\n",
    "plt.title('Correlation Heatmap')"
   ]
  },
  {
   "cell_type": "markdown",
   "id": "f6f8a262",
   "metadata": {},
   "source": [
    "Looking at the correlations between the numerical features there appears to be a potential multicollinearity issue between Case Diameter (mm), Case Thickness (mm) and Band Width (mm)."
   ]
  },
  {
   "cell_type": "code",
   "execution_count": 37,
   "id": "d5f92a99",
   "metadata": {},
   "outputs": [
    {
     "data": {
      "text/html": [
       "<div>\n",
       "<style scoped>\n",
       "    .dataframe tbody tr th:only-of-type {\n",
       "        vertical-align: middle;\n",
       "    }\n",
       "\n",
       "    .dataframe tbody tr th {\n",
       "        vertical-align: top;\n",
       "    }\n",
       "\n",
       "    .dataframe thead th {\n",
       "        text-align: right;\n",
       "    }\n",
       "</style>\n",
       "<table border=\"1\" class=\"dataframe\">\n",
       "  <thead>\n",
       "    <tr style=\"text-align: right;\">\n",
       "      <th></th>\n",
       "      <th>Water Resistance</th>\n",
       "      <th>Case Diameter (mm)</th>\n",
       "      <th>Case Thickness (mm)</th>\n",
       "      <th>Band Width (mm)</th>\n",
       "      <th>Power Reserve</th>\n",
       "      <th>Price (USD)</th>\n",
       "    </tr>\n",
       "  </thead>\n",
       "  <tbody>\n",
       "    <tr>\n",
       "      <th>count</th>\n",
       "      <td>474.000000</td>\n",
       "      <td>474.000000</td>\n",
       "      <td>474.000000</td>\n",
       "      <td>474.000000</td>\n",
       "      <td>474.000000</td>\n",
       "      <td>474.000000</td>\n",
       "    </tr>\n",
       "    <tr>\n",
       "      <th>mean</th>\n",
       "      <td>122.067511</td>\n",
       "      <td>41.161603</td>\n",
       "      <td>11.653565</td>\n",
       "      <td>21.159283</td>\n",
       "      <td>59.274262</td>\n",
       "      <td>12324.641350</td>\n",
       "    </tr>\n",
       "    <tr>\n",
       "      <th>std</th>\n",
       "      <td>150.287771</td>\n",
       "      <td>2.229070</td>\n",
       "      <td>2.434456</td>\n",
       "      <td>1.613385</td>\n",
       "      <td>23.219349</td>\n",
       "      <td>10500.833329</td>\n",
       "    </tr>\n",
       "    <tr>\n",
       "      <th>min</th>\n",
       "      <td>30.000000</td>\n",
       "      <td>33.000000</td>\n",
       "      <td>5.150000</td>\n",
       "      <td>16.000000</td>\n",
       "      <td>38.000000</td>\n",
       "      <td>495.000000</td>\n",
       "    </tr>\n",
       "    <tr>\n",
       "      <th>25%</th>\n",
       "      <td>50.000000</td>\n",
       "      <td>40.000000</td>\n",
       "      <td>9.800000</td>\n",
       "      <td>20.000000</td>\n",
       "      <td>45.000000</td>\n",
       "      <td>5825.000000</td>\n",
       "    </tr>\n",
       "    <tr>\n",
       "      <th>50%</th>\n",
       "      <td>100.000000</td>\n",
       "      <td>41.000000</td>\n",
       "      <td>12.140000</td>\n",
       "      <td>20.000000</td>\n",
       "      <td>55.000000</td>\n",
       "      <td>8500.000000</td>\n",
       "    </tr>\n",
       "    <tr>\n",
       "      <th>75%</th>\n",
       "      <td>120.000000</td>\n",
       "      <td>42.000000</td>\n",
       "      <td>13.320000</td>\n",
       "      <td>22.000000</td>\n",
       "      <td>70.000000</td>\n",
       "      <td>16950.000000</td>\n",
       "    </tr>\n",
       "    <tr>\n",
       "      <th>max</th>\n",
       "      <td>2000.000000</td>\n",
       "      <td>46.500000</td>\n",
       "      <td>16.950000</td>\n",
       "      <td>28.000000</td>\n",
       "      <td>270.000000</td>\n",
       "      <td>70000.000000</td>\n",
       "    </tr>\n",
       "  </tbody>\n",
       "</table>\n",
       "</div>"
      ],
      "text/plain": [
       "       Water Resistance  Case Diameter (mm)  Case Thickness (mm)  \\\n",
       "count        474.000000          474.000000           474.000000   \n",
       "mean         122.067511           41.161603            11.653565   \n",
       "std          150.287771            2.229070             2.434456   \n",
       "min           30.000000           33.000000             5.150000   \n",
       "25%           50.000000           40.000000             9.800000   \n",
       "50%          100.000000           41.000000            12.140000   \n",
       "75%          120.000000           42.000000            13.320000   \n",
       "max         2000.000000           46.500000            16.950000   \n",
       "\n",
       "       Band Width (mm)  Power Reserve   Price (USD)  \n",
       "count       474.000000     474.000000    474.000000  \n",
       "mean         21.159283      59.274262  12324.641350  \n",
       "std           1.613385      23.219349  10500.833329  \n",
       "min          16.000000      38.000000    495.000000  \n",
       "25%          20.000000      45.000000   5825.000000  \n",
       "50%          20.000000      55.000000   8500.000000  \n",
       "75%          22.000000      70.000000  16950.000000  \n",
       "max          28.000000     270.000000  70000.000000  "
      ]
     },
     "execution_count": 37,
     "metadata": {},
     "output_type": "execute_result"
    }
   ],
   "source": [
    "watches[numerical].describe()"
   ]
  },
  {
   "cell_type": "code",
   "execution_count": 38,
   "id": "3330288e",
   "metadata": {},
   "outputs": [
    {
     "name": "stderr",
     "output_type": "stream",
     "text": [
      "/Users/karolina/anaconda3/lib/python3.11/site-packages/seaborn/axisgrid.py:118: UserWarning: The figure layout has changed to tight\n",
      "  self._figure.tight_layout(*args, **kwargs)\n"
     ]
    },
    {
     "data": {
      "text/plain": [
       "Text(0.5, 1.0, 'Distribution of Price')"
      ]
     },
     "execution_count": 38,
     "metadata": {},
     "output_type": "execute_result"
    },
    {
     "data": {
      "image/png": "[encoded data removed]",
      "text/plain": [
       "<Figure size 500x500 with 1 Axes>"
      ]
     },
     "metadata": {},
     "output_type": "display_data"
    }
   ],
   "source": [
    "# what's the distribution of the target: Price\n",
    "sns.displot(watches['Price (USD)'])\n",
    "plt.title('Distribution of Price')"
   ]
  },
  {
   "cell_type": "code",
   "execution_count": 39,
   "id": "3ae40a24",
   "metadata": {},
   "outputs": [
    {
     "data": {
      "text/plain": [
       "Text(0.5, 1.0, 'Water Resistance')"
      ]
     },
     "execution_count": 39,
     "metadata": {},
     "output_type": "execute_result"
    },
    {
     "data": {
      "image/png": "[encoded data removed]",
      "text/plain": [
       "<Figure size 640x480 with 1 Axes>"
      ]
     },
     "metadata": {},
     "output_type": "display_data"
    }
   ],
   "source": [
    "# what's the distribution of Water resistance \n",
    "sns.boxplot(watches['Water Resistance'])\n",
    "plt.title('Water Resistance')"
   ]
  },
  {
   "cell_type": "code",
   "execution_count": 40,
   "id": "db4e7ded",
   "metadata": {},
   "outputs": [
    {
     "data": {
      "text/plain": [
       "Text(0.5, 1.0, 'Case Diameter (mm)')"
      ]
     },
     "execution_count": 40,
     "metadata": {},
     "output_type": "execute_result"
    },
    {
     "data": {
      "image/png": "[encoded data removed]",
      "text/plain": [
       "<Figure size 640x480 with 1 Axes>"
      ]
     },
     "metadata": {},
     "output_type": "display_data"
    }
   ],
   "source": [
    "# what's the distribution of Water resistance \n",
    "sns.boxplot(watches['Case Diameter (mm)'])\n",
    "plt.title('Case Diameter (mm)')"
   ]
  },
  {
   "cell_type": "code",
   "execution_count": 41,
   "id": "2b45a040",
   "metadata": {},
   "outputs": [
    {
     "data": {
      "text/plain": [
       "Text(0.5, 1.0, 'Case Thickness (mm)')"
      ]
     },
     "execution_count": 41,
     "metadata": {},
     "output_type": "execute_result"
    },
    {
     "data": {
      "image/png": "[encoded data removed]",
      "text/plain": [
       "<Figure size 640x480 with 1 Axes>"
      ]
     },
     "metadata": {},
     "output_type": "display_data"
    }
   ],
   "source": [
    "# what's the distribution of Water resistance \n",
    "sns.boxplot(watches['Case Thickness (mm)'])\n",
    "plt.title('Case Thickness (mm)')"
   ]
  },
  {
   "cell_type": "code",
   "execution_count": 42,
   "id": "aee90239",
   "metadata": {},
   "outputs": [
    {
     "data": {
      "text/plain": [
       "Text(0.5, 1.0, 'Band Width (mm)')"
      ]
     },
     "execution_count": 42,
     "metadata": {},
     "output_type": "execute_result"
    },
    {
     "data": {
      "image/png": "[encoded data removed]",
      "text/plain": [
       "<Figure size 640x480 with 1 Axes>"
      ]
     },
     "metadata": {},
     "output_type": "display_data"
    }
   ],
   "source": [
    "# what's the distribution of Water resistance \n",
    "sns.boxplot(watches['Band Width (mm)'])\n",
    "plt.title('Band Width (mm)')"
   ]
  },
  {
   "cell_type": "code",
   "execution_count": 43,
   "id": "585b722d",
   "metadata": {},
   "outputs": [
    {
     "data": {
      "text/plain": [
       "Text(0.5, 1.0, 'Power Reserve')"
      ]
     },
     "execution_count": 43,
     "metadata": {},
     "output_type": "execute_result"
    },
    {
     "data": {
      "image/png": "[encoded data removed]",
      "text/plain": [
       "<Figure size 640x480 with 1 Axes>"
      ]
     },
     "metadata": {},
     "output_type": "display_data"
    }
   ],
   "source": [
    "# what's the distribution of Water resistance \n",
    "sns.boxplot(watches['Power Reserve'])\n",
    "plt.title('Power Reserve')"
   ]
  },
  {
   "cell_type": "markdown",
   "id": "e31e8639",
   "metadata": {},
   "source": [
    "Looking at the boxplots of the numerical features we can see that there is quite a lot of outliers present in all but the case thickness features. Additionally, looking at the distribution of the price column we can see that the data is right skewed. "
   ]
  },
  {
   "cell_type": "markdown",
   "id": "96cb833b",
   "metadata": {},
   "source": [
    "# Feature Selection "
   ]
  },
  {
   "cell_type": "code",
   "execution_count": 44,
   "id": "ed9a9e2a",
   "metadata": {},
   "outputs": [],
   "source": [
    "# train test split\n",
    "# split into train and test data\n",
    "X = watches[[ 'Water Resistance', 'Case Diameter (mm)',\n",
    "       'Case Thickness (mm)', 'Band Width (mm)', 'Power Reserve',\n",
    "       'Chronograph_comp', 'Cyclops_comp', 'Cyclops Lens_comp',\n",
    "       'Date_comp', 'Dual Time Zone_comp', 'Flyback_comp', 'GMT_comp',\n",
    "       'Moon Phase_comp', 'Moonphase_comp', 'Power Reserve_comp',\n",
    "       'Power Reserve Indicator_comp', 'Rotating Bezel_comp',\n",
    "       'Second Time Zone_comp', 'Stopwatch_comp', 'Sub Seconds_comp',\n",
    "       'Tachymeter_comp', 'Unidirectional Bezel_comp', 'World Time_comp',\n",
    "       '18k king gold_case', '18k rose gold_case', '18k white gold_case',\n",
    "       '18k yellow gold_case', 'bronze_case', 'carbon fiber_case',\n",
    "       'ceramic_case', 'german submarine steel_case', 'rose gold_case',\n",
    "       'stainless steel_case', 'titanium_case', 'white gold_case',\n",
    "       'yellow gold_case', 'Alligator_strap', 'Canvas_strap', 'Fabric_strap',\n",
    "       'Jubilee_strap', 'Jubilee Bracelet_strap', 'Leather_strap',\n",
    "       'NATO Strap_strap', 'NATO strap_strap', 'Rose Gold_strap',\n",
    "       'Rubber_strap', 'Silicone_strap', 'Stainless Steel_strap',\n",
    "       'Textile_strap', 'Titanium_strap', 'Automatic_mov', 'Eco-Drive_mov',\n",
    "       'Manual_mov', 'Black_dial', 'Blue_dial', 'Champagne_dial', 'Grey_dial',\n",
    "       'Ivory_dial', 'Silver_dial', 'White_dial', 'Hardlex_crystal',\n",
    "       'Hesalite_crystal', 'Mineral_crystal', 'Sapphire_crystal']]\n",
    "y = watches['Price (USD)']\n",
    "X_train, X_test, y_train, y_test = train_test_split(X, y, test_size=0.2, random_state=3)"
   ]
  },
  {
   "cell_type": "code",
   "execution_count": 45,
   "id": "992dc511",
   "metadata": {},
   "outputs": [
    {
     "data": {
      "text/plain": [
       "(379, 64)"
      ]
     },
     "execution_count": 45,
     "metadata": {},
     "output_type": "execute_result"
    }
   ],
   "source": [
    "X_train.shape"
   ]
  },
  {
   "cell_type": "code",
   "execution_count": 46,
   "id": "4b758abf",
   "metadata": {},
   "outputs": [
    {
     "data": {
      "text/plain": [
       "(95, 64)"
      ]
     },
     "execution_count": 46,
     "metadata": {},
     "output_type": "execute_result"
    }
   ],
   "source": [
    "X_test.shape"
   ]
  },
  {
   "cell_type": "code",
   "execution_count": 47,
   "id": "77dac1d0",
   "metadata": {},
   "outputs": [],
   "source": [
    "# scale the data\n",
    "scaler = StandardScaler()\n",
    "X_train = scaler.fit_transform(X_train)\n",
    "X_test = scaler.transform(X_test)"
   ]
  },
  {
   "cell_type": "code",
   "execution_count": 48,
   "id": "1746b01a",
   "metadata": {},
   "outputs": [
    {
     "data": {
      "text/plain": [
       "10"
      ]
     },
     "execution_count": 48,
     "metadata": {},
     "output_type": "execute_result"
    }
   ],
   "source": [
    "# Begin looking at a linear regression model\n",
    "lmodel = LinearRegression()\n",
    "fs = SequentialFeatureSelector(lmodel, n_features_to_select='auto', tol=60, direction='forward', scoring='neg_root_mean_squared_error', cv=5, n_jobs=-1)\n",
    "fs.fit(X_train,y_train)\n",
    "fs.n_features_to_select_"
   ]
  },
  {
   "cell_type": "code",
   "execution_count": 49,
   "id": "38350238",
   "metadata": {},
   "outputs": [
    {
     "data": {
      "text/plain": [
       "array(['Case Diameter (mm)', 'Case Thickness (mm)', 'Date_comp',\n",
       "       'Moon Phase_comp', 'stainless steel_case', 'titanium_case',\n",
       "       'Leather_strap', 'Rubber_strap', 'Silicone_strap', 'Blue_dial'],\n",
       "      dtype=object)"
      ]
     },
     "execution_count": 49,
     "metadata": {},
     "output_type": "execute_result"
    }
   ],
   "source": [
    "fs.get_feature_names_out([ 'Water Resistance', 'Case Diameter (mm)',\n",
    "       'Case Thickness (mm)', 'Band Width (mm)', 'Power Reserve',\n",
    "        'Chronograph_comp', 'Cyclops_comp', 'Cyclops Lens_comp',\n",
    "       'Date_comp', 'Dual Time Zone_comp', 'Flyback_comp', 'GMT_comp',\n",
    "       'Moon Phase_comp', 'Moonphase_comp', 'Power Reserve_comp',\n",
    "       'Power Reserve Indicator_comp', 'Rotating Bezel_comp',\n",
    "       'Second Time Zone_comp', 'Stopwatch_comp', 'Sub Seconds_comp',\n",
    "       'Tachymeter_comp', 'Unidirectional Bezel_comp', 'World Time_comp',\n",
    "       '18k king gold_case', '18k rose gold_case', '18k white gold_case',\n",
    "       '18k yellow gold_case', 'bronze_case', 'carbon fiber_case',\n",
    "       'ceramic_case', 'german submarine steel_case', 'rose gold_case',\n",
    "       'stainless steel_case', 'titanium_case', 'white gold_case',\n",
    "       'yellow gold_case', 'Alligator_strap', 'Canvas_strap', 'Fabric_strap',\n",
    "       'Jubilee_strap', 'Jubilee Bracelet_strap', 'Leather_strap',\n",
    "       'NATO Strap_strap', 'NATO strap_strap', 'Rose Gold_strap',\n",
    "       'Rubber_strap', 'Silicone_strap', 'Stainless Steel_strap',\n",
    "       'Textile_strap', 'Titanium_strap', 'Automatic_mov', 'Eco-Drive_mov',\n",
    "       'Manual_mov', 'Black_dial', 'Blue_dial', 'Champagne_dial', 'Grey_dial',\n",
    "       'Ivory_dial', 'Silver_dial', 'White_dial', 'Hardlex_crystal',\n",
    "       'Hesalite_crystal', 'Mineral_crystal', 'Sapphire_crystal'])"
   ]
  },
  {
   "cell_type": "code",
   "execution_count": 50,
   "id": "34479148",
   "metadata": {},
   "outputs": [
    {
     "name": "stdout",
     "output_type": "stream",
     "text": [
      "0.5324595843102378 7599.1082586463235\n"
     ]
    }
   ],
   "source": [
    "X_train1 = fs.transform(X_train)\n",
    "X_test1 = fs.transform(X_test)\n",
    "lmodel.fit(X_train1,y_train)\n",
    "print(lmodel.score(X_train1, y_train), mean_squared_error(lmodel.predict(X_train1), y_train, squared = False))"
   ]
  },
  {
   "cell_type": "code",
   "execution_count": 51,
   "id": "a6600922",
   "metadata": {},
   "outputs": [
    {
     "name": "stdout",
     "output_type": "stream",
     "text": [
      "0.24176581525934648 6268.867405041969\n"
     ]
    }
   ],
   "source": [
    "print(lmodel.score(X_test1, y_test), mean_squared_error(lmodel.predict(X_test1), y_test, squared = False))"
   ]
  },
  {
   "cell_type": "code",
   "execution_count": 52,
   "id": "66d3293f",
   "metadata": {},
   "outputs": [
    {
     "data": {
      "text/plain": [
       "Text(0.5, 1.0, 'Residuals vs. Fitted values plot')"
      ]
     },
     "execution_count": 52,
     "metadata": {},
     "output_type": "execute_result"
    },
    {
     "data": {
      "image/png": "[encoded data removed]",
      "text/plain": [
       "<Figure size 640x480 with 1 Axes>"
      ]
     },
     "metadata": {},
     "output_type": "display_data"
    }
   ],
   "source": [
    "# does it meet the linear regression assumptions\n",
    "# look at the residuals to evaluate linear regression assumptions\n",
    "train_pred = lmodel.predict(X_train1) \n",
    "res = y_train - train_pred\n",
    "plt.scatter(train_pred, res)\n",
    "plt.xlabel('Fitted Values')\n",
    "plt.ylabel('Residuals')\n",
    "plt.title('Residuals vs. Fitted values plot')"
   ]
  },
  {
   "cell_type": "markdown",
   "id": "381d1843",
   "metadata": {},
   "source": [
    "The Residual vs. Fitted model plot shows a cornucupia shape and does not meet the assumptions."
   ]
  },
  {
   "cell_type": "code",
   "execution_count": 53,
   "id": "ac217bd6",
   "metadata": {},
   "outputs": [
    {
     "data": {
      "text/plain": [
       "Text(0.5, 1.0, 'QQ Plot of Residuals')"
      ]
     },
     "execution_count": 53,
     "metadata": {},
     "output_type": "execute_result"
    },
    {
     "data": {
      "image/png": "[encoded data removed]",
      "text/plain": [
       "<Figure size 640x480 with 1 Axes>"
      ]
     },
     "metadata": {},
     "output_type": "display_data"
    }
   ],
   "source": [
    "# QQplot\n",
    "sm.qqplot(res)\n",
    "plt.title('QQ Plot of Residuals')"
   ]
  },
  {
   "cell_type": "markdown",
   "id": "8260847b",
   "metadata": {},
   "source": [
    "The QQplot also shows issues related to the normality assumptions. This together with the residual vs. fitted plot as well as the result of the linear model indicates that for this problem a linear model is not ideal. "
   ]
  },
  {
   "cell_type": "code",
   "execution_count": 54,
   "id": "c832b53e",
   "metadata": {},
   "outputs": [],
   "source": [
    "# Does random forest regressor perform better?\n",
    "rmodel = RandomForestRegressor(random_state = 3)"
   ]
  },
  {
   "cell_type": "code",
   "execution_count": 55,
   "id": "8cd353f6",
   "metadata": {},
   "outputs": [
    {
     "data": {
      "text/plain": [
       "{'bootstrap': True,\n",
       " 'ccp_alpha': 0.0,\n",
       " 'criterion': 'squared_error',\n",
       " 'max_depth': None,\n",
       " 'max_features': 1.0,\n",
       " 'max_leaf_nodes': None,\n",
       " 'max_samples': None,\n",
       " 'min_impurity_decrease': 0.0,\n",
       " 'min_samples_leaf': 1,\n",
       " 'min_samples_split': 2,\n",
       " 'min_weight_fraction_leaf': 0.0,\n",
       " 'n_estimators': 100,\n",
       " 'n_jobs': None,\n",
       " 'oob_score': False,\n",
       " 'random_state': 3,\n",
       " 'verbose': 0,\n",
       " 'warm_start': False}"
      ]
     },
     "execution_count": 55,
     "metadata": {},
     "output_type": "execute_result"
    }
   ],
   "source": [
    "# initial parameters\n",
    "rmodel.get_params()"
   ]
  },
  {
   "cell_type": "code",
   "execution_count": 56,
   "id": "d3f3812f",
   "metadata": {},
   "outputs": [
    {
     "data": {
      "text/plain": [
       "6"
      ]
     },
     "execution_count": 56,
     "metadata": {},
     "output_type": "execute_result"
    }
   ],
   "source": [
    "# select best features using forwards selection \n",
    "fs = SequentialFeatureSelector(rmodel, n_features_to_select='auto', tol=60, direction='forward', scoring='neg_root_mean_squared_error', cv=5, n_jobs=-1)\n",
    "fs.fit(X_train,y_train)\n",
    "fs.n_features_to_select_"
   ]
  },
  {
   "cell_type": "code",
   "execution_count": 57,
   "id": "1cacc9a3",
   "metadata": {},
   "outputs": [
    {
     "data": {
      "text/plain": [
       "array(['Case Thickness (mm)', 'Power Reserve', 'Chronograph_comp',\n",
       "       'stainless steel_case', 'Rubber_strap', 'Stainless Steel_strap'],\n",
       "      dtype=object)"
      ]
     },
     "execution_count": 57,
     "metadata": {},
     "output_type": "execute_result"
    }
   ],
   "source": [
    "# what features\n",
    "fs.get_feature_names_out([ 'Water Resistance', 'Case Diameter (mm)',\n",
    "       'Case Thickness (mm)', 'Band Width (mm)', 'Power Reserve',\n",
    "        'Chronograph_comp', 'Cyclops_comp', 'Cyclops Lens_comp',\n",
    "       'Date_comp', 'Dual Time Zone_comp', 'Flyback_comp', 'GMT_comp',\n",
    "       'Moon Phase_comp', 'Moonphase_comp', 'Power Reserve_comp',\n",
    "       'Power Reserve Indicator_comp', 'Rotating Bezel_comp',\n",
    "       'Second Time Zone_comp', 'Stopwatch_comp', 'Sub Seconds_comp',\n",
    "       'Tachymeter_comp', 'Unidirectional Bezel_comp', 'World Time_comp',\n",
    "       '18k king gold_case', '18k rose gold_case', '18k white gold_case',\n",
    "       '18k yellow gold_case', 'bronze_case', 'carbon fiber_case',\n",
    "       'ceramic_case', 'german submarine steel_case', 'rose gold_case',\n",
    "       'stainless steel_case', 'titanium_case', 'white gold_case',\n",
    "       'yellow gold_case', 'Alligator_strap', 'Canvas_strap', 'Fabric_strap',\n",
    "       'Jubilee_strap', 'Jubilee Bracelet_strap', 'Leather_strap',\n",
    "       'NATO Strap_strap', 'NATO strap_strap', 'Rose Gold_strap',\n",
    "       'Rubber_strap', 'Silicone_strap', 'Stainless Steel_strap',\n",
    "       'Textile_strap', 'Titanium_strap', 'Automatic_mov', 'Eco-Drive_mov',\n",
    "       'Manual_mov', 'Black_dial', 'Blue_dial', 'Champagne_dial', 'Grey_dial',\n",
    "       'Ivory_dial', 'Silver_dial', 'White_dial', 'Hardlex_crystal',\n",
    "       'Hesalite_crystal', 'Mineral_crystal', 'Sapphire_crystal'])"
   ]
  },
  {
   "cell_type": "code",
   "execution_count": 58,
   "id": "5b8ac5a7",
   "metadata": {},
   "outputs": [
    {
     "name": "stdout",
     "output_type": "stream",
     "text": [
      "0.9110345709926655 3314.848549809078\n"
     ]
    }
   ],
   "source": [
    "X_train2 = fs.transform(X_train)\n",
    "X_test2 = fs.transform(X_test)\n",
    "rmodel.fit(X_train2, y_train)\n",
    "print(rmodel.score(X_train2, y_train), mean_squared_error(rmodel.predict(X_train2), y_train, squared = False))"
   ]
  },
  {
   "cell_type": "code",
   "execution_count": 59,
   "id": "616b6e81",
   "metadata": {},
   "outputs": [
    {
     "name": "stdout",
     "output_type": "stream",
     "text": [
      "0.7656959111036945 3484.7958234097955\n"
     ]
    }
   ],
   "source": [
    "print(rmodel.score(X_test2, y_test), mean_squared_error(rmodel.predict(X_test2), y_test, squared = False))"
   ]
  },
  {
   "cell_type": "markdown",
   "id": "9f68e20b",
   "metadata": {},
   "source": [
    "The random forest regresson model clearly perform better than the linear regression model. This is probably because the random forest regression model is able to learn the non linear relationships in the data that the linear model is unable to capture."
   ]
  },
  {
   "cell_type": "code",
   "execution_count": 60,
   "id": "c809f07f",
   "metadata": {},
   "outputs": [
    {
     "data": {
      "text/html": [
       "<style>#sk-container-id-1 {color: black;}#sk-container-id-1 pre{padding: 0;}#sk-container-id-1 div.sk-toggleable {background-color: white;}#sk-container-id-1 label.sk-toggleable__label {cursor: pointer;display: block;width: 100%;margin-bottom: 0;padding: 0.3em;box-sizing: border-box;text-align: center;}#sk-container-id-1 label.sk-toggleable__label-arrow:before {content: \"▸\";float: left;margin-right: 0.25em;color: #696969;}#sk-container-id-1 label.sk-toggleable__label-arrow:hover:before {color: black;}#sk-container-id-1 div.sk-estimator:hover label.sk-toggleable__label-arrow:before {color: black;}#sk-container-id-1 div.sk-toggleable__content {max-height: 0;max-width: 0;overflow: hidden;text-align: left;background-color: #f0f8ff;}#sk-container-id-1 div.sk-toggleable__content pre {margin: 0.2em;color: black;border-radius: 0.25em;background-color: #f0f8ff;}#sk-container-id-1 input.sk-toggleable__control:checked~div.sk-toggleable__content {max-height: 200px;max-width: 100%;overflow: auto;}#sk-container-id-1 input.sk-toggleable__control:checked~label.sk-toggleable__label-arrow:before {content: \"▾\";}#sk-container-id-1 div.sk-estimator input.sk-toggleable__control:checked~label.sk-toggleable__label {background-color: #d4ebff;}#sk-container-id-1 div.sk-label input.sk-toggleable__control:checked~label.sk-toggleable__label {background-color: #d4ebff;}#sk-container-id-1 input.sk-hidden--visually {border: 0;clip: rect(1px 1px 1px 1px);clip: rect(1px, 1px, 1px, 1px);height: 1px;margin: -1px;overflow: hidden;padding: 0;position: absolute;width: 1px;}#sk-container-id-1 div.sk-estimator {font-family: monospace;background-color: #f0f8ff;border: 1px dotted black;border-radius: 0.25em;box-sizing: border-box;margin-bottom: 0.5em;}#sk-container-id-1 div.sk-estimator:hover {background-color: #d4ebff;}#sk-container-id-1 div.sk-parallel-item::after {content: \"\";width: 100%;border-bottom: 1px solid gray;flex-grow: 1;}#sk-container-id-1 div.sk-label:hover label.sk-toggleable__label {background-color: #d4ebff;}#sk-container-id-1 div.sk-serial::before {content: \"\";position: absolute;border-left: 1px solid gray;box-sizing: border-box;top: 0;bottom: 0;left: 50%;z-index: 0;}#sk-container-id-1 div.sk-serial {display: flex;flex-direction: column;align-items: center;background-color: white;padding-right: 0.2em;padding-left: 0.2em;position: relative;}#sk-container-id-1 div.sk-item {position: relative;z-index: 1;}#sk-container-id-1 div.sk-parallel {display: flex;align-items: stretch;justify-content: center;background-color: white;position: relative;}#sk-container-id-1 div.sk-item::before, #sk-container-id-1 div.sk-parallel-item::before {content: \"\";position: absolute;border-left: 1px solid gray;box-sizing: border-box;top: 0;bottom: 0;left: 50%;z-index: -1;}#sk-container-id-1 div.sk-parallel-item {display: flex;flex-direction: column;z-index: 1;position: relative;background-color: white;}#sk-container-id-1 div.sk-parallel-item:first-child::after {align-self: flex-end;width: 50%;}#sk-container-id-1 div.sk-parallel-item:last-child::after {align-self: flex-start;width: 50%;}#sk-container-id-1 div.sk-parallel-item:only-child::after {width: 0;}#sk-container-id-1 div.sk-dashed-wrapped {border: 1px dashed gray;margin: 0 0.4em 0.5em 0.4em;box-sizing: border-box;padding-bottom: 0.4em;background-color: white;}#sk-container-id-1 div.sk-label label {font-family: monospace;font-weight: bold;display: inline-block;line-height: 1.2em;}#sk-container-id-1 div.sk-label-container {text-align: center;}#sk-container-id-1 div.sk-container {/* jupyter's `normalize.less` sets `[hidden] { display: none; }` but bootstrap.min.css set `[hidden] { display: none !important; }` so we also need the `!important` here to be able to override the default hidden behavior on the sphinx rendered scikit-learn.org. See: https://github.com/scikit-learn/scikit-learn/issues/21755 */display: inline-block !important;position: relative;}#sk-container-id-1 div.sk-text-repr-fallback {display: none;}</style><div id=\"sk-container-id-1\" class=\"sk-top-container\"><div class=\"sk-text-repr-fallback\"><pre>RandomizedSearchCV(cv=3, estimator=RandomForestRegressor(random_state=3),\n",
       "                   n_jobs=-1,\n",
       "                   param_distributions={&#x27;bootstrap&#x27;: [True, False],\n",
       "                                        &#x27;max_depth&#x27;: [None, 5, 10, 50, 70, 100],\n",
       "                                        &#x27;max_features&#x27;: [&#x27;log2&#x27;, &#x27;sqrt&#x27;],\n",
       "                                        &#x27;min_samples_leaf&#x27;: [1, 2, 4, 6],\n",
       "                                        &#x27;min_samples_split&#x27;: [2, 5, 7, 10],\n",
       "                                        &#x27;n_estimators&#x27;: [100, 500, 700, 1000]},\n",
       "                   random_state=3, scoring=&#x27;neg_root_mean_squared_error&#x27;)</pre><b>In a Jupyter environment, please rerun this cell to show the HTML representation or trust the notebook. <br />On GitHub, the HTML representation is unable to render, please try loading this page with nbviewer.org.</b></div><div class=\"sk-container\" hidden><div class=\"sk-item sk-dashed-wrapped\"><div class=\"sk-label-container\"><div class=\"sk-label sk-toggleable\"><input class=\"sk-toggleable__control sk-hidden--visually\" id=\"sk-estimator-id-1\" type=\"checkbox\" ><label for=\"sk-estimator-id-1\" class=\"sk-toggleable__label sk-toggleable__label-arrow\">RandomizedSearchCV</label><div class=\"sk-toggleable__content\"><pre>RandomizedSearchCV(cv=3, estimator=RandomForestRegressor(random_state=3),\n",
       "                   n_jobs=-1,\n",
       "                   param_distributions={&#x27;bootstrap&#x27;: [True, False],\n",
       "                                        &#x27;max_depth&#x27;: [None, 5, 10, 50, 70, 100],\n",
       "                                        &#x27;max_features&#x27;: [&#x27;log2&#x27;, &#x27;sqrt&#x27;],\n",
       "                                        &#x27;min_samples_leaf&#x27;: [1, 2, 4, 6],\n",
       "                                        &#x27;min_samples_split&#x27;: [2, 5, 7, 10],\n",
       "                                        &#x27;n_estimators&#x27;: [100, 500, 700, 1000]},\n",
       "                   random_state=3, scoring=&#x27;neg_root_mean_squared_error&#x27;)</pre></div></div></div><div class=\"sk-parallel\"><div class=\"sk-parallel-item\"><div class=\"sk-item\"><div class=\"sk-label-container\"><div class=\"sk-label sk-toggleable\"><input class=\"sk-toggleable__control sk-hidden--visually\" id=\"sk-estimator-id-2\" type=\"checkbox\" ><label for=\"sk-estimator-id-2\" class=\"sk-toggleable__label sk-toggleable__label-arrow\">estimator: RandomForestRegressor</label><div class=\"sk-toggleable__content\"><pre>RandomForestRegressor(random_state=3)</pre></div></div></div><div class=\"sk-serial\"><div class=\"sk-item\"><div class=\"sk-estimator sk-toggleable\"><input class=\"sk-toggleable__control sk-hidden--visually\" id=\"sk-estimator-id-3\" type=\"checkbox\" ><label for=\"sk-estimator-id-3\" class=\"sk-toggleable__label sk-toggleable__label-arrow\">RandomForestRegressor</label><div class=\"sk-toggleable__content\"><pre>RandomForestRegressor(random_state=3)</pre></div></div></div></div></div></div></div></div></div></div>"
      ],
      "text/plain": [
       "RandomizedSearchCV(cv=3, estimator=RandomForestRegressor(random_state=3),\n",
       "                   n_jobs=-1,\n",
       "                   param_distributions={'bootstrap': [True, False],\n",
       "                                        'max_depth': [None, 5, 10, 50, 70, 100],\n",
       "                                        'max_features': ['log2', 'sqrt'],\n",
       "                                        'min_samples_leaf': [1, 2, 4, 6],\n",
       "                                        'min_samples_split': [2, 5, 7, 10],\n",
       "                                        'n_estimators': [100, 500, 700, 1000]},\n",
       "                   random_state=3, scoring='neg_root_mean_squared_error')"
      ]
     },
     "execution_count": 60,
     "metadata": {},
     "output_type": "execute_result"
    }
   ],
   "source": [
    "# Fine tuning the random forest regressor using randomized grid search\n",
    "grid = {\n",
    "    'n_estimators': [100,500,700,1000],\n",
    "    'max_features': ['log2', 'sqrt'],\n",
    "    'max_depth': [None, 5, 10, 50,70,100],\n",
    "    'min_samples_split': [2, 5,7,10],\n",
    "    'min_samples_leaf': [1, 2, 4, 6],\n",
    "    'bootstrap': [True, False]    \n",
    "}\n",
    "\n",
    "# do the search\n",
    "gridSearch = RandomizedSearchCV(estimator = rmodel, param_distributions = grid, scoring = 'neg_root_mean_squared_error', cv = 3, random_state = 3, n_jobs = -1)\n",
    "gridSearch.fit(X_train2, y_train)"
   ]
  },
  {
   "cell_type": "code",
   "execution_count": 61,
   "id": "f7df3722",
   "metadata": {},
   "outputs": [
    {
     "data": {
      "text/html": [
       "<style>#sk-container-id-2 {color: black;}#sk-container-id-2 pre{padding: 0;}#sk-container-id-2 div.sk-toggleable {background-color: white;}#sk-container-id-2 label.sk-toggleable__label {cursor: pointer;display: block;width: 100%;margin-bottom: 0;padding: 0.3em;box-sizing: border-box;text-align: center;}#sk-container-id-2 label.sk-toggleable__label-arrow:before {content: \"▸\";float: left;margin-right: 0.25em;color: #696969;}#sk-container-id-2 label.sk-toggleable__label-arrow:hover:before {color: black;}#sk-container-id-2 div.sk-estimator:hover label.sk-toggleable__label-arrow:before {color: black;}#sk-container-id-2 div.sk-toggleable__content {max-height: 0;max-width: 0;overflow: hidden;text-align: left;background-color: #f0f8ff;}#sk-container-id-2 div.sk-toggleable__content pre {margin: 0.2em;color: black;border-radius: 0.25em;background-color: #f0f8ff;}#sk-container-id-2 input.sk-toggleable__control:checked~div.sk-toggleable__content {max-height: 200px;max-width: 100%;overflow: auto;}#sk-container-id-2 input.sk-toggleable__control:checked~label.sk-toggleable__label-arrow:before {content: \"▾\";}#sk-container-id-2 div.sk-estimator input.sk-toggleable__control:checked~label.sk-toggleable__label {background-color: #d4ebff;}#sk-container-id-2 div.sk-label input.sk-toggleable__control:checked~label.sk-toggleable__label {background-color: #d4ebff;}#sk-container-id-2 input.sk-hidden--visually {border: 0;clip: rect(1px 1px 1px 1px);clip: rect(1px, 1px, 1px, 1px);height: 1px;margin: -1px;overflow: hidden;padding: 0;position: absolute;width: 1px;}#sk-container-id-2 div.sk-estimator {font-family: monospace;background-color: #f0f8ff;border: 1px dotted black;border-radius: 0.25em;box-sizing: border-box;margin-bottom: 0.5em;}#sk-container-id-2 div.sk-estimator:hover {background-color: #d4ebff;}#sk-container-id-2 div.sk-parallel-item::after {content: \"\";width: 100%;border-bottom: 1px solid gray;flex-grow: 1;}#sk-container-id-2 div.sk-label:hover label.sk-toggleable__label {background-color: #d4ebff;}#sk-container-id-2 div.sk-serial::before {content: \"\";position: absolute;border-left: 1px solid gray;box-sizing: border-box;top: 0;bottom: 0;left: 50%;z-index: 0;}#sk-container-id-2 div.sk-serial {display: flex;flex-direction: column;align-items: center;background-color: white;padding-right: 0.2em;padding-left: 0.2em;position: relative;}#sk-container-id-2 div.sk-item {position: relative;z-index: 1;}#sk-container-id-2 div.sk-parallel {display: flex;align-items: stretch;justify-content: center;background-color: white;position: relative;}#sk-container-id-2 div.sk-item::before, #sk-container-id-2 div.sk-parallel-item::before {content: \"\";position: absolute;border-left: 1px solid gray;box-sizing: border-box;top: 0;bottom: 0;left: 50%;z-index: -1;}#sk-container-id-2 div.sk-parallel-item {display: flex;flex-direction: column;z-index: 1;position: relative;background-color: white;}#sk-container-id-2 div.sk-parallel-item:first-child::after {align-self: flex-end;width: 50%;}#sk-container-id-2 div.sk-parallel-item:last-child::after {align-self: flex-start;width: 50%;}#sk-container-id-2 div.sk-parallel-item:only-child::after {width: 0;}#sk-container-id-2 div.sk-dashed-wrapped {border: 1px dashed gray;margin: 0 0.4em 0.5em 0.4em;box-sizing: border-box;padding-bottom: 0.4em;background-color: white;}#sk-container-id-2 div.sk-label label {font-family: monospace;font-weight: bold;display: inline-block;line-height: 1.2em;}#sk-container-id-2 div.sk-label-container {text-align: center;}#sk-container-id-2 div.sk-container {/* jupyter's `normalize.less` sets `[hidden] { display: none; }` but bootstrap.min.css set `[hidden] { display: none !important; }` so we also need the `!important` here to be able to override the default hidden behavior on the sphinx rendered scikit-learn.org. See: https://github.com/scikit-learn/scikit-learn/issues/21755 */display: inline-block !important;position: relative;}#sk-container-id-2 div.sk-text-repr-fallback {display: none;}</style><div id=\"sk-container-id-2\" class=\"sk-top-container\"><div class=\"sk-text-repr-fallback\"><pre>RandomForestRegressor(max_depth=10, max_features=&#x27;log2&#x27;, random_state=3)</pre><b>In a Jupyter environment, please rerun this cell to show the HTML representation or trust the notebook. <br />On GitHub, the HTML representation is unable to render, please try loading this page with nbviewer.org.</b></div><div class=\"sk-container\" hidden><div class=\"sk-item\"><div class=\"sk-estimator sk-toggleable\"><input class=\"sk-toggleable__control sk-hidden--visually\" id=\"sk-estimator-id-4\" type=\"checkbox\" checked><label for=\"sk-estimator-id-4\" class=\"sk-toggleable__label sk-toggleable__label-arrow\">RandomForestRegressor</label><div class=\"sk-toggleable__content\"><pre>RandomForestRegressor(max_depth=10, max_features=&#x27;log2&#x27;, random_state=3)</pre></div></div></div></div></div>"
      ],
      "text/plain": [
       "RandomForestRegressor(max_depth=10, max_features='log2', random_state=3)"
      ]
     },
     "execution_count": 61,
     "metadata": {},
     "output_type": "execute_result"
    }
   ],
   "source": [
    "BestEstimator = gridSearch.best_estimator_\n",
    "BestEstimator"
   ]
  },
  {
   "cell_type": "code",
   "execution_count": 62,
   "id": "2039ca81",
   "metadata": {},
   "outputs": [
    {
     "data": {
      "text/plain": [
       "{'n_estimators': 100,\n",
       " 'min_samples_split': 2,\n",
       " 'min_samples_leaf': 1,\n",
       " 'max_features': 'log2',\n",
       " 'max_depth': 10,\n",
       " 'bootstrap': True}"
      ]
     },
     "execution_count": 62,
     "metadata": {},
     "output_type": "execute_result"
    }
   ],
   "source": [
    "gridSearch.best_params_"
   ]
  },
  {
   "cell_type": "code",
   "execution_count": 63,
   "id": "e583e328",
   "metadata": {},
   "outputs": [
    {
     "name": "stdout",
     "output_type": "stream",
     "text": [
      "0.9066412075095327 3395.710560155618\n"
     ]
    }
   ],
   "source": [
    "BestEstimator.fit(X_train2,y_train)\n",
    "print(BestEstimator.score(X_train2, y_train), mean_squared_error(BestEstimator.predict(X_train2), y_train, squared = False))"
   ]
  },
  {
   "cell_type": "code",
   "execution_count": 64,
   "id": "bdad573c",
   "metadata": {},
   "outputs": [
    {
     "name": "stdout",
     "output_type": "stream",
     "text": [
      "0.7787362279436515 3386.4335621995065\n"
     ]
    }
   ],
   "source": [
    "print(BestEstimator.score(X_test2, y_test), mean_squared_error(BestEstimator.predict(X_test2), y_test, squared = False))"
   ]
  },
  {
   "cell_type": "code",
   "execution_count": null,
   "id": "9fca6d4e",
   "metadata": {},
   "outputs": [],
   "source": []
  },
  {
   "cell_type": "code",
   "execution_count": null,
   "id": "5e44d17d",
   "metadata": {},
   "outputs": [],
   "source": []
  }
 ],
 "metadata": {
  "kernelspec": {
   "display_name": "Python 3 (ipykernel)",
   "language": "python",
   "name": "python3"
  },
  "language_info": {
   "codemirror_mode": {
    "name": "ipython",
    "version": 3
   },
   "file_extension": ".py",
   "mimetype": "text/x-python",
   "name": "python",
   "nbconvert_exporter": "python",
   "pygments_lexer": "ipython3",
   "version": "3.11.5"
  }
 },
 "nbformat": 4,
 "nbformat_minor": 5
}
